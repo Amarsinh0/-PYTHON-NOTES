{
  "nbformat": 4,
  "nbformat_minor": 0,
  "metadata": {
    "colab": {
      "provenance": [],
      "authorship_tag": "ABX9TyNf06xokvAALaxqPvUwpFNX",
      "include_colab_link": true
    },
    "kernelspec": {
      "name": "python3",
      "display_name": "Python 3"
    },
    "language_info": {
      "name": "python"
    }
  },
  "cells": [
    {
      "cell_type": "markdown",
      "metadata": {
        "id": "view-in-github",
        "colab_type": "text"
      },
      "source": [
        "<a href=\"https://colab.research.google.com/github/Amarsinh0/-PYTHON-NOTES/blob/main/python_vimp_code.ipynb\" target=\"_parent\"><img src=\"https://colab.research.google.com/assets/colab-badge.svg\" alt=\"Open In Colab\"/></a>"
      ]
    },
    {
      "cell_type": "code",
      "execution_count": null,
      "metadata": {
        "colab": {
          "base_uri": "https://localhost:8080/"
        },
        "id": "AXqfQXd4uoCW",
        "outputId": "1e1d29f4-8a52-435e-92f6-2b53bf5df1d5"
      },
      "outputs": [
        {
          "output_type": "stream",
          "name": "stdout",
          "text": [
            "hello world\n"
          ]
        }
      ],
      "source": [
        "print(\"hello world\")"
      ]
    },
    {
      "cell_type": "code",
      "source": [
        "if 5>2:\n",
        "  print(\"its true\")\n",
        "else:\n",
        "  print(\"false\")"
      ],
      "metadata": {
        "colab": {
          "base_uri": "https://localhost:8080/"
        },
        "id": "8Ilh1uQZu8X7",
        "outputId": "6b7d6337-12e4-4b96-ab2c-f762ed37a87c"
      },
      "execution_count": null,
      "outputs": [
        {
          "output_type": "stream",
          "name": "stdout",
          "text": [
            "its true\n"
          ]
        }
      ]
    },
    {
      "cell_type": "code",
      "source": [
        "x,y,z='apple','banana' ,'mango'\n",
        "print(x)\n",
        "print(y)\n",
        "print(z)"
      ],
      "metadata": {
        "colab": {
          "base_uri": "https://localhost:8080/"
        },
        "id": "qy5DExFHvPkD",
        "outputId": "ce36c9a9-6f0f-4e7c-ea1a-5187b635a2cf"
      },
      "execution_count": null,
      "outputs": [
        {
          "output_type": "stream",
          "name": "stdout",
          "text": [
            "apple\n",
            "banana\n",
            "mango\n"
          ]
        }
      ]
    },
    {
      "cell_type": "code",
      "source": [
        "x=y=z='apple'\n",
        "print(y)"
      ],
      "metadata": {
        "colab": {
          "base_uri": "https://localhost:8080/"
        },
        "id": "zMh4l_Grv9CJ",
        "outputId": "6069681d-8c2d-4582-eb4b-34f78de011b1"
      },
      "execution_count": null,
      "outputs": [
        {
          "output_type": "stream",
          "name": "stdout",
          "text": [
            "apple\n"
          ]
        }
      ]
    },
    {
      "cell_type": "code",
      "source": [
        "q=\"best\"\n",
        "def my_func():\n",
        "  print('python is ' + q)\n",
        "my_func()\n"
      ],
      "metadata": {
        "colab": {
          "base_uri": "https://localhost:8080/"
        },
        "id": "0es-uT0pwEUH",
        "outputId": "0bbfb2dc-8569-4d74-b4fe-6a0a0854cc1f"
      },
      "execution_count": null,
      "outputs": [
        {
          "output_type": "stream",
          "name": "stdout",
          "text": [
            "python is best\n"
          ]
        }
      ]
    },
    {
      "cell_type": "code",
      "source": [],
      "metadata": {
        "id": "lNR66RDOxIVn"
      },
      "execution_count": null,
      "outputs": []
    },
    {
      "cell_type": "code",
      "source": [
        "x=\"best\"\n",
        "def func():\n",
        "  x='awesome'\n",
        "  print(\"python is \"+ x)\n",
        "func()\n",
        "print(\"python is \"+x)"
      ],
      "metadata": {
        "colab": {
          "base_uri": "https://localhost:8080/"
        },
        "id": "N3PdkEBixQim",
        "outputId": "4385a4ad-a0d3-4a15-a45a-31e49dcdeedf"
      },
      "execution_count": null,
      "outputs": [
        {
          "output_type": "stream",
          "name": "stdout",
          "text": [
            "python is awesome\n",
            "python is best\n"
          ]
        }
      ]
    },
    {
      "cell_type": "code",
      "source": [
        "y=13\n",
        "r=1.3\n",
        "z='amar'\n",
        "print(type(y))\n",
        "print(type(r))\n",
        "print(type(z))"
      ],
      "metadata": {
        "colab": {
          "base_uri": "https://localhost:8080/"
        },
        "id": "N7gKs3-9x3Or",
        "outputId": "d6fb22af-de32-449c-8162-6c0d1ecbbca6"
      },
      "execution_count": null,
      "outputs": [
        {
          "output_type": "stream",
          "name": "stdout",
          "text": [
            "<class 'int'>\n",
            "<class 'float'>\n",
            "<class 'str'>\n"
          ]
        }
      ]
    },
    {
      "cell_type": "code",
      "source": [],
      "metadata": {
        "id": "mN3OGx0-yOeP"
      },
      "execution_count": null,
      "outputs": []
    },
    {
      "cell_type": "code",
      "source": [
        "a=200\n",
        "b=300\n",
        "if a>b :\n",
        "  print(\"greter\")\n",
        "else:\n",
        "  print('it is smaller')"
      ],
      "metadata": {
        "colab": {
          "base_uri": "https://localhost:8080/"
        },
        "id": "6ri-gNvfyhKq",
        "outputId": "b889f886-99ac-430a-97f4-1ccc444cd097"
      },
      "execution_count": null,
      "outputs": [
        {
          "output_type": "stream",
          "name": "stdout",
          "text": [
            "it is smaller\n"
          ]
        }
      ]
    },
    {
      "cell_type": "code",
      "source": [
        "a= '  arTeficil IntEllignce '\n",
        "print(a[:3])\n",
        "print(a[2:5])\n",
        "print(a[-10:-4])\n",
        "print(a[2:15:2])\n",
        "print(a[::-1])\n",
        "print(a.upper())\n",
        "print(a.swapcase())\n",
        "print(a.capitalize())\n",
        "print(a.casefold())\n",
        "print(a.endswith(\"e\"))\n",
        "print(a.find(\"T\"))\n",
        "print(a.split())\n",
        "print(a.center(2))\n",
        "print(a.strip())\n"
      ],
      "metadata": {
        "colab": {
          "base_uri": "https://localhost:8080/"
        },
        "id": "AAghrufCzFUK",
        "outputId": "e348c11c-7a64-4b30-de77-f467ca2357bc"
      },
      "execution_count": null,
      "outputs": [
        {
          "output_type": "stream",
          "name": "stdout",
          "text": [
            "  a\n",
            "arT\n",
            "tEllig\n",
            "aTfclIt\n",
            " ecngillEtnI licifeTra  \n",
            "  ARTEFICIL INTELLIGNCE \n",
            "  ARtEFICIL iNTeLLIGNCE \n",
            "  arteficil intellignce \n",
            "  arteficil intellignce \n",
            "False\n",
            "4\n",
            "['arTeficil', 'IntEllignce']\n",
            "  arTeficil IntEllignce \n",
            "arTeficil IntEllignce\n"
          ]
        }
      ]
    },
    {
      "cell_type": "code",
      "source": [
        "a='hell\\n world '\n",
        "b='hello\\vworld '\n",
        "c='hello world '\n",
        "d='hello\\' world '\n",
        "e='hello \\\\ world '\n",
        "f='hello\\\" world '\n",
        "\n",
        "print(a)\n",
        "print(b)\n",
        "print(c)\n",
        "print(d)\n",
        "print(e)\n",
        "print(f)"
      ],
      "metadata": {
        "colab": {
          "base_uri": "https://localhost:8080/"
        },
        "id": "WFVtPomd0XLH",
        "outputId": "d735e9d8-9c97-428e-e62b-3fe4653ae1fe"
      },
      "execution_count": null,
      "outputs": [
        {
          "output_type": "stream",
          "name": "stdout",
          "text": [
            "hell\n",
            " world \n",
            "hello\u000bworld \n",
            "hello world \n",
            "hello' world \n",
            "hello \\ world \n",
            "hello\" world \n"
          ]
        }
      ]
    },
    {
      "cell_type": "code",
      "source": [
        "complex(15)\n"
      ],
      "metadata": {
        "colab": {
          "base_uri": "https://localhost:8080/"
        },
        "id": "VbCAUZcz34fc",
        "outputId": "882d768f-dee3-49c3-eed2-dab0ea30fbc5"
      },
      "execution_count": null,
      "outputs": [
        {
          "output_type": "execute_result",
          "data": {
            "text/plain": [
              "(15+0j)"
            ]
          },
          "metadata": {},
          "execution_count": 49
        }
      ]
    },
    {
      "cell_type": "code",
      "source": [
        "print(bool(0))\n",
        "print(bool(1))"
      ],
      "metadata": {
        "colab": {
          "base_uri": "https://localhost:8080/"
        },
        "id": "zEWi24BL4D3K",
        "outputId": "7485fc67-2fc3-434d-aeaf-2f85dbd428f1"
      },
      "execution_count": null,
      "outputs": [
        {
          "output_type": "stream",
          "name": "stdout",
          "text": [
            "False\n",
            "True\n"
          ]
        }
      ]
    },
    {
      "cell_type": "code",
      "source": [
        "print(str(10))\n",
        "print(str(10.5))\n",
        "print(str('data science'))"
      ],
      "metadata": {
        "colab": {
          "base_uri": "https://localhost:8080/"
        },
        "id": "NdSg7QA54OU3",
        "outputId": "28428300-03ce-4f04-e51b-3a271cd22c4f"
      },
      "execution_count": null,
      "outputs": [
        {
          "output_type": "stream",
          "name": "stdout",
          "text": [
            "10\n",
            "10.5\n",
            "data science\n"
          ]
        }
      ]
    },
    {
      "cell_type": "code",
      "source": [
        "a=10\n",
        "b=10\n",
        "a=b\n",
        "print(id(a))\n",
        "print(id(b))"
      ],
      "metadata": {
        "colab": {
          "base_uri": "https://localhost:8080/"
        },
        "id": "wS3M9xpK4mIW",
        "outputId": "f572b080-432d-45a4-a5c8-a94c80ae806d"
      },
      "execution_count": null,
      "outputs": [
        {
          "output_type": "stream",
          "name": "stdout",
          "text": [
            "140189094904336\n",
            "140189094904336\n"
          ]
        }
      ]
    },
    {
      "cell_type": "code",
      "source": [
        "x=[1,2,3,4,5,7,7]\n",
        "b=bytearray(x)\n",
        "print(b)"
      ],
      "metadata": {
        "colab": {
          "base_uri": "https://localhost:8080/"
        },
        "id": "b_2KIokt43Eg",
        "outputId": "2a205dfa-87db-46a3-b619-fcde098189e8"
      },
      "execution_count": null,
      "outputs": [
        {
          "output_type": "stream",
          "name": "stdout",
          "text": [
            "bytearray(b'\\x01\\x02\\x03\\x04\\x05\\x07\\x07')\n"
          ]
        }
      ]
    },
    {
      "cell_type": "code",
      "source": [
        "for i  in x :\n",
        "  print(i)"
      ],
      "metadata": {
        "colab": {
          "base_uri": "https://localhost:8080/"
        },
        "id": "NQ2Wooaq5lhC",
        "outputId": "d59ff3e9-9501-4ddd-f606-11cb724f2b85"
      },
      "execution_count": null,
      "outputs": [
        {
          "output_type": "stream",
          "name": "stdout",
          "text": [
            "1\n",
            "2\n",
            "3\n",
            "4\n",
            "5\n",
            "7\n",
            "7\n"
          ]
        }
      ]
    },
    {
      "cell_type": "code",
      "source": [
        "list=['data science', 10, 10.5, 'Ture', 15+5j ]\n",
        "print(list)\n"
      ],
      "metadata": {
        "colab": {
          "base_uri": "https://localhost:8080/"
        },
        "id": "M5m_Tpz36Huf",
        "outputId": "b1dd25fc-f6d6-47fa-d778-91bb7ef0167e"
      },
      "execution_count": null,
      "outputs": [
        {
          "output_type": "stream",
          "name": "stdout",
          "text": [
            "['data science', 10, 10.5, 'Ture', (15+5j)]\n"
          ]
        }
      ]
    },
    {
      "cell_type": "code",
      "source": [
        "list[0]=100\n",
        "print(list)"
      ],
      "metadata": {
        "colab": {
          "base_uri": "https://localhost:8080/"
        },
        "id": "wHi6C4lu7ihA",
        "outputId": "018ba584-f5d6-4cb9-f052-7c2abd84f4a6"
      },
      "execution_count": null,
      "outputs": [
        {
          "output_type": "stream",
          "name": "stdout",
          "text": [
            "[100, 10, 10.5, 'Ture', (15+5j)]\n"
          ]
        }
      ]
    },
    {
      "cell_type": "code",
      "source": [
        "list.append(888)\n",
        "print(list)"
      ],
      "metadata": {
        "colab": {
          "base_uri": "https://localhost:8080/"
        },
        "id": "AgiXwiom6Hfn",
        "outputId": "94ceab62-a1e1-4f19-9451-e707c5d29180"
      },
      "execution_count": null,
      "outputs": [
        {
          "output_type": "stream",
          "name": "stdout",
          "text": [
            "[100, 10, 10.5, 'Ture', (15+5j), 888, 888]\n"
          ]
        }
      ]
    },
    {
      "cell_type": "code",
      "source": [
        "list.remove(888)\n",
        "print(list)"
      ],
      "metadata": {
        "colab": {
          "base_uri": "https://localhost:8080/"
        },
        "id": "DiyRDY996HZw",
        "outputId": "419e5597-84ef-4adc-d5c2-0c43d068df8d"
      },
      "execution_count": null,
      "outputs": [
        {
          "output_type": "stream",
          "name": "stdout",
          "text": [
            "[100, 10, 10.5, 'Ture', (15+5j), 888]\n"
          ]
        }
      ]
    },
    {
      "cell_type": "code",
      "source": [
        "list=list*2\n",
        "print(list)"
      ],
      "metadata": {
        "colab": {
          "base_uri": "https://localhost:8080/"
        },
        "id": "UZr4uQOY5v9I",
        "outputId": "9394af02-ad04-4599-b621-afd61a722ee5"
      },
      "execution_count": null,
      "outputs": [
        {
          "output_type": "stream",
          "name": "stdout",
          "text": [
            "[100, 10, 10.5, 'Ture', (15+5j), 888, 100, 10, 10.5, 'Ture', (15+5j), 888]\n"
          ]
        }
      ]
    },
    {
      "cell_type": "code",
      "source": [
        "list[2]=400\n",
        "print(list)"
      ],
      "metadata": {
        "colab": {
          "base_uri": "https://localhost:8080/"
        },
        "id": "CbiwhVL487Pl",
        "outputId": "f3288a0c-b766-44f2-c380-820dac1705e7"
      },
      "execution_count": null,
      "outputs": [
        {
          "output_type": "stream",
          "name": "stdout",
          "text": [
            "[100, 10, 400, 'Ture', (15+5j), 888, 100, 10, 10.5, 'Ture', (15+5j), 888]\n"
          ]
        }
      ]
    },
    {
      "cell_type": "code",
      "source": [
        "for i in range(0,10):\n",
        "  print(i)"
      ],
      "metadata": {
        "id": "UkzoDe3N9egE",
        "colab": {
          "base_uri": "https://localhost:8080/"
        },
        "outputId": "e7c65427-b6e9-4b77-f0fd-9c7aa6483526"
      },
      "execution_count": 5,
      "outputs": [
        {
          "output_type": "stream",
          "name": "stdout",
          "text": [
            "0\n",
            "1\n",
            "2\n",
            "3\n",
            "4\n",
            "5\n",
            "6\n",
            "7\n",
            "8\n",
            "9\n"
          ]
        }
      ]
    },
    {
      "cell_type": "code",
      "source": [
        "for i in range (0,10,3):\n",
        "  print(i)"
      ],
      "metadata": {
        "colab": {
          "base_uri": "https://localhost:8080/"
        },
        "id": "TMQXZqHswsS_",
        "outputId": "fd175ed7-cf82-4f26-d8ef-2043a282c8fd"
      },
      "execution_count": 6,
      "outputs": [
        {
          "output_type": "stream",
          "name": "stdout",
          "text": [
            "0\n",
            "3\n",
            "6\n",
            "9\n"
          ]
        }
      ]
    },
    {
      "cell_type": "code",
      "source": [
        "s={100,0,10,200,10,'data science'}\n",
        "s.add(700)\n",
        "s.remove(0)\n",
        "fs=frozenset(s)\n",
        "print(s)\n"
      ],
      "metadata": {
        "colab": {
          "base_uri": "https://localhost:8080/"
        },
        "id": "N8ykNo_Gwy2L",
        "outputId": "5f3370c4-2f8c-4c55-800b-49712aabdd50"
      },
      "execution_count": 13,
      "outputs": [
        {
          "output_type": "stream",
          "name": "stdout",
          "text": [
            "{100, 'data science', 200, 10, 700}\n"
          ]
        }
      ]
    },
    {
      "cell_type": "code",
      "source": [
        "d={101:'amar',102:'rohit',103:'shubham',104:'shreya'}\n",
        "print(d)\n",
        "d[103]='changu'\n",
        "print(d)"
      ],
      "metadata": {
        "colab": {
          "base_uri": "https://localhost:8080/"
        },
        "id": "OYVMAcrmxrvX",
        "outputId": "73ff733e-5b57-4d57-ab7d-d0f6c93444b3"
      },
      "execution_count": 18,
      "outputs": [
        {
          "output_type": "stream",
          "name": "stdout",
          "text": [
            "{101: 'amar', 102: 'rohit', 103: 'shubham', 104: 'shreya'}\n",
            "{101: 'amar', 102: 'rohit', 103: 'changu', 104: 'shreya'}\n"
          ]
        }
      ]
    },
    {
      "cell_type": "code",
      "source": [
        "d={}\n",
        "print(type(d))"
      ],
      "metadata": {
        "colab": {
          "base_uri": "https://localhost:8080/"
        },
        "id": "DouD6L-xyfIM",
        "outputId": "6e03081b-f743-420c-daf7-ed242aea9a1d"
      },
      "execution_count": 20,
      "outputs": [
        {
          "output_type": "stream",
          "name": "stdout",
          "text": [
            "<class 'dict'>\n"
          ]
        }
      ]
    },
    {
      "cell_type": "code",
      "source": [
        "d['a']='amar'\n",
        "d['b']='vipul'\n",
        "print(d)"
      ],
      "metadata": {
        "colab": {
          "base_uri": "https://localhost:8080/"
        },
        "id": "OPS1-SapyngN",
        "outputId": "a957d575-44bf-4b07-f5be-8436644ba8c9"
      },
      "execution_count": 24,
      "outputs": [
        {
          "output_type": "stream",
          "name": "stdout",
          "text": [
            "{'a': 'amar', 'b': 'vipul'}\n"
          ]
        }
      ]
    },
    {
      "cell_type": "code",
      "source": [
        "d['a']='nana'\n",
        "d['b']='patekar'\n",
        "print(d)"
      ],
      "metadata": {
        "colab": {
          "base_uri": "https://localhost:8080/"
        },
        "id": "gOjG7RgyzCiZ",
        "outputId": "74a49817-1110-4127-cf85-075579b5fe22"
      },
      "execution_count": 29,
      "outputs": [
        {
          "output_type": "stream",
          "name": "stdout",
          "text": [
            "{'a': 'nana', 'b': 'patekar'}\n"
          ]
        }
      ]
    },
    {
      "cell_type": "code",
      "source": [
        "d['m']='ashok'\n",
        "d['l']='rohit200'\n",
        "print(d)"
      ],
      "metadata": {
        "colab": {
          "base_uri": "https://localhost:8080/"
        },
        "id": "okka0LR3zlBK",
        "outputId": "226631e0-8720-4eb6-8a18-2bee0cf33b0a"
      },
      "execution_count": 30,
      "outputs": [
        {
          "output_type": "stream",
          "name": "stdout",
          "text": [
            "{'a': 'nana', 'b': 'patekar', 'm': 'ashok', 'l': 'rohit200'}\n"
          ]
        }
      ]
    },
    {
      "cell_type": "code",
      "source": [
        "def m1():\n",
        "  a=10\n",
        "print(m1())\n"
      ],
      "metadata": {
        "colab": {
          "base_uri": "https://localhost:8080/"
        },
        "id": "7tMjuDEaz3Ct",
        "outputId": "c9569f92-9350-44dc-ae30-11c7e73ae44d"
      },
      "execution_count": 35,
      "outputs": [
        {
          "output_type": "stream",
          "name": "stdout",
          "text": [
            "None\n"
          ]
        }
      ]
    },
    {
      "cell_type": "code",
      "source": [
        "a=15\n",
        "b=2\n",
        "print(a/b)\n",
        "print(a-b)\n",
        "print(a%b)\n",
        "print(a//b)\n",
        "print(a**b)\n",
        "print(a*b)"
      ],
      "metadata": {
        "colab": {
          "base_uri": "https://localhost:8080/"
        },
        "id": "dWgEaOTg0Til",
        "outputId": "cd705388-f42a-4ba2-ba65-5f087080f9a9"
      },
      "execution_count": 36,
      "outputs": [
        {
          "output_type": "stream",
          "name": "stdout",
          "text": [
            "7.5\n",
            "13\n",
            "1\n",
            "7\n",
            "225\n",
            "30\n"
          ]
        }
      ]
    },
    {
      "cell_type": "code",
      "source": [
        "a=10\n",
        "b=20\n",
        "print(a>b)\n",
        "print(b>a)\n",
        "print(a==b)\n",
        "print(a!=b)"
      ],
      "metadata": {
        "colab": {
          "base_uri": "https://localhost:8080/"
        },
        "id": "4iVu1NPT0yoW",
        "outputId": "2b822b9e-b65b-4f92-cf74-1e75bddb794d"
      },
      "execution_count": 37,
      "outputs": [
        {
          "output_type": "stream",
          "name": "stdout",
          "text": [
            "False\n",
            "True\n",
            "False\n",
            "True\n"
          ]
        }
      ]
    },
    {
      "cell_type": "code",
      "source": [
        "10 and 20"
      ],
      "metadata": {
        "colab": {
          "base_uri": "https://localhost:8080/"
        },
        "id": "l53698yk1IyH",
        "outputId": "c65632e7-7c18-437d-97ae-ab82255f7997"
      },
      "execution_count": 38,
      "outputs": [
        {
          "output_type": "execute_result",
          "data": {
            "text/plain": [
              "20"
            ]
          },
          "metadata": {},
          "execution_count": 38
        }
      ]
    },
    {
      "cell_type": "code",
      "source": [
        "10 or 30"
      ],
      "metadata": {
        "colab": {
          "base_uri": "https://localhost:8080/"
        },
        "id": "KL7rnk261XIQ",
        "outputId": "4ec216be-e0f0-479a-dcc5-96d70681fc34"
      },
      "execution_count": 39,
      "outputs": [
        {
          "output_type": "execute_result",
          "data": {
            "text/plain": [
              "10"
            ]
          },
          "metadata": {},
          "execution_count": 39
        }
      ]
    },
    {
      "cell_type": "code",
      "source": [
        "10 or 30"
      ],
      "metadata": {
        "colab": {
          "base_uri": "https://localhost:8080/"
        },
        "id": "kL3wp3a-1bOg",
        "outputId": "e2ecb6a3-7610-460d-fe51-25259f22fd0f"
      },
      "execution_count": 41,
      "outputs": [
        {
          "output_type": "execute_result",
          "data": {
            "text/plain": [
              "10"
            ]
          },
          "metadata": {},
          "execution_count": 41
        }
      ]
    },
    {
      "cell_type": "code",
      "source": [
        "print(4^10)"
      ],
      "metadata": {
        "colab": {
          "base_uri": "https://localhost:8080/"
        },
        "id": "__q15H5b19tR",
        "outputId": "0f44357b-93c6-4026-ecf0-a58fc259dbd8"
      },
      "execution_count": 43,
      "outputs": [
        {
          "output_type": "stream",
          "name": "stdout",
          "text": [
            "14\n"
          ]
        }
      ]
    },
    {
      "cell_type": "code",
      "source": [
        "print(10>>5)"
      ],
      "metadata": {
        "colab": {
          "base_uri": "https://localhost:8080/"
        },
        "id": "t4VpEuCd2Xzp",
        "outputId": "516c0cd9-dd61-428d-caf4-6c28b6b1e1de"
      },
      "execution_count": 45,
      "outputs": [
        {
          "output_type": "stream",
          "name": "stdout",
          "text": [
            "0\n"
          ]
        }
      ]
    },
    {
      "cell_type": "code",
      "source": [
        "\n",
        "a=int(input('Enter the number a'))\n",
        "b=int(input('Enter the number b'))\n",
        "c=int(input('Enter the number c'))\n",
        "\n",
        "if b<a>c:\n",
        "  print('a is great' )\n",
        "elif b>c:\n",
        "  print('b is gretest number')\n",
        "else:\n",
        "  print('c is gretest number')\n"
      ],
      "metadata": {
        "colab": {
          "base_uri": "https://localhost:8080/"
        },
        "id": "SEkz-P-52jMD",
        "outputId": "26c0d4bb-f30e-4d2a-d43f-8277cd9168cd"
      },
      "execution_count": 54,
      "outputs": [
        {
          "output_type": "stream",
          "name": "stdout",
          "text": [
            "Enter the number a-24\n",
            "Enter the number b-99\n",
            "Enter the number c-2\n",
            "c is gretest number\n"
          ]
        }
      ]
    },
    {
      "cell_type": "code",
      "source": [
        "def max_of_two(x,y):\n",
        "  if x>y:\n",
        "    return x\n",
        "  return y\n",
        "max_of_two(200,3488)"
      ],
      "metadata": {
        "colab": {
          "base_uri": "https://localhost:8080/"
        },
        "id": "sWJRuCz653YB",
        "outputId": "5038b611-7d86-415c-9bc4-a95d13dc53b2"
      },
      "execution_count": 58,
      "outputs": [
        {
          "output_type": "execute_result",
          "data": {
            "text/plain": [
              "3488"
            ]
          },
          "metadata": {},
          "execution_count": 58
        }
      ]
    },
    {
      "cell_type": "code",
      "source": [
        "def max_of_three(x,y,z):\n",
        "  if y<x>z:\n",
        "    return x\n",
        "  elif y>z:\n",
        "    return y\n",
        "  return z\n",
        "max_of_three(20,300,34)"
      ],
      "metadata": {
        "colab": {
          "base_uri": "https://localhost:8080/"
        },
        "id": "rlV8vTQz6wnL",
        "outputId": "2bb9ebfc-331a-44b1-d4ba-48a35dd36de7"
      },
      "execution_count": 60,
      "outputs": [
        {
          "output_type": "execute_result",
          "data": {
            "text/plain": [
              "300"
            ]
          },
          "metadata": {},
          "execution_count": 60
        }
      ]
    },
    {
      "cell_type": "code",
      "source": [
        "a='learing python is very easy'\n",
        "print('h' in a)\n",
        "print('i' not in a)"
      ],
      "metadata": {
        "colab": {
          "base_uri": "https://localhost:8080/"
        },
        "id": "YGCHk2kI7fsn",
        "outputId": "1e5be838-1c3c-44fc-e38e-938ced856229"
      },
      "execution_count": 62,
      "outputs": [
        {
          "output_type": "stream",
          "name": "stdout",
          "text": [
            "True\n",
            "False\n"
          ]
        }
      ]
    },
    {
      "cell_type": "code",
      "source": [
        "import math\n",
        "math.sqrt(16)"
      ],
      "metadata": {
        "colab": {
          "base_uri": "https://localhost:8080/"
        },
        "id": "FUdmTVAw-b2B",
        "outputId": "8705b413-e35e-457c-e245-d7b31d75c265"
      },
      "execution_count": 64,
      "outputs": [
        {
          "output_type": "execute_result",
          "data": {
            "text/plain": [
              "4.0"
            ]
          },
          "metadata": {},
          "execution_count": 64
        }
      ]
    },
    {
      "cell_type": "code",
      "source": [
        "from math import ceil,floor,factorial,trunc,gcd,sin,cos,tan,pow,pi"
      ],
      "metadata": {
        "id": "NIbyiw7I_dSi"
      },
      "execution_count": 72,
      "outputs": []
    },
    {
      "cell_type": "code",
      "source": [
        "print(ceil(10.34))\n",
        "print(floor(10.34))\n",
        "print(factorial(5))\n",
        "print(pow(10,3))\n",
        "print(trunc(10.33))\n",
        "print(sin(60))\n"
      ],
      "metadata": {
        "colab": {
          "base_uri": "https://localhost:8080/"
        },
        "id": "CZeI8zTo_4ii",
        "outputId": "da662e31-362a-47ad-8f01-3345da198917"
      },
      "execution_count": 73,
      "outputs": [
        {
          "output_type": "stream",
          "name": "stdout",
          "text": [
            "11\n",
            "10\n",
            "120\n",
            "1000.0\n",
            "10\n",
            "-0.3048106211022167\n"
          ]
        }
      ]
    },
    {
      "cell_type": "code",
      "source": [
        "import math\n",
        "def area(r):\n",
        "  area=math.pi*(pow(r,2))\n",
        "  return area\n",
        "area(4)"
      ],
      "metadata": {
        "colab": {
          "base_uri": "https://localhost:8080/"
        },
        "id": "hqUNJJ1XClbK",
        "outputId": "97256667-68a6-4715-9656-89c86ab25cd2"
      },
      "execution_count": 77,
      "outputs": [
        {
          "output_type": "execute_result",
          "data": {
            "text/plain": [
              "50.26548245743669"
            ]
          },
          "metadata": {},
          "execution_count": 77
        }
      ]
    },
    {
      "cell_type": "code",
      "source": [
        "x=eval('10 +24 +35')\n",
        "x"
      ],
      "metadata": {
        "colab": {
          "base_uri": "https://localhost:8080/"
        },
        "id": "c7aTWEfCDQui",
        "outputId": "56ead52b-5a6b-4fbe-8dd6-10f906deec53"
      },
      "execution_count": 78,
      "outputs": [
        {
          "output_type": "execute_result",
          "data": {
            "text/plain": [
              "69"
            ]
          },
          "metadata": {},
          "execution_count": 78
        }
      ]
    },
    {
      "cell_type": "code",
      "source": [
        "a,b,c=10,20,30\n",
        "print(a,b,c,sep=' ')"
      ],
      "metadata": {
        "colab": {
          "base_uri": "https://localhost:8080/"
        },
        "id": "EYef9gesDzj8",
        "outputId": "41932851-4a11-445c-8bd1-288e7319e3e7"
      },
      "execution_count": 81,
      "outputs": [
        {
          "output_type": "stream",
          "name": "stdout",
          "text": [
            "10 20 30\n"
          ]
        }
      ]
    },
    {
      "cell_type": "code",
      "source": [
        "a= int(input(\"Enter the number : \"))\n",
        "if a%2==0:\n",
        "  print (a,\" is even number \")\n",
        "else :\n",
        "  print(a,\" is odd number \")\n"
      ],
      "metadata": {
        "colab": {
          "base_uri": "https://localhost:8080/"
        },
        "id": "QW_JCcoAD_sE",
        "outputId": "135b52ec-c291-42db-dc7f-2805ba3a9741"
      },
      "execution_count": 4,
      "outputs": [
        {
          "output_type": "stream",
          "name": "stdout",
          "text": [
            "Enter the number : 1\n",
            "1  is odd number \n"
          ]
        }
      ]
    },
    {
      "cell_type": "code",
      "source": [
        "\n",
        "for i in range(10):\n",
        " print(i)"
      ],
      "metadata": {
        "colab": {
          "base_uri": "https://localhost:8080/"
        },
        "id": "v1c7mEJv44nb",
        "outputId": "4575ae7e-05d4-4dde-9bf7-34adb9d76e56"
      },
      "execution_count": 9,
      "outputs": [
        {
          "output_type": "stream",
          "name": "stdout",
          "text": [
            "0\n",
            "1\n",
            "2\n",
            "3\n",
            "4\n",
            "5\n",
            "6\n",
            "7\n",
            "8\n",
            "9\n"
          ]
        }
      ]
    },
    {
      "cell_type": "code",
      "source": [
        "for i in range(21):\n",
        "  if i%2==0:\n",
        "    print(i)"
      ],
      "metadata": {
        "colab": {
          "base_uri": "https://localhost:8080/"
        },
        "id": "z2nrEIhQ5P94",
        "outputId": "67dc183c-9a11-461a-909c-78ffb13edd1e"
      },
      "execution_count": 10,
      "outputs": [
        {
          "output_type": "stream",
          "name": "stdout",
          "text": [
            "0\n",
            "2\n",
            "4\n",
            "6\n",
            "8\n",
            "10\n",
            "12\n",
            "14\n",
            "16\n",
            "18\n",
            "20\n"
          ]
        }
      ]
    },
    {
      "cell_type": "code",
      "source": [
        "for i in range(10,0,-1):\n",
        "  print(i)"
      ],
      "metadata": {
        "colab": {
          "base_uri": "https://localhost:8080/"
        },
        "id": "yCIdrbwd5b_U",
        "outputId": "0d86ae62-77a4-4678-b7a2-d712a7a8983e"
      },
      "execution_count": 13,
      "outputs": [
        {
          "output_type": "stream",
          "name": "stdout",
          "text": [
            "10\n",
            "9\n",
            "8\n",
            "7\n",
            "6\n",
            "5\n",
            "4\n",
            "3\n",
            "2\n",
            "1\n"
          ]
        }
      ]
    },
    {
      "cell_type": "code",
      "source": [
        "list=eval(input('enetr the list :'))\n",
        "sum=0\n",
        "for i in list:\n",
        "  sum=sum+i\n",
        "print('sum of th total', sum)\n",
        ""
      ],
      "metadata": {
        "colab": {
          "base_uri": "https://localhost:8080/"
        },
        "id": "m1rX64_O5vmT",
        "outputId": "977f54de-27a0-406f-d9c5-ba87737e3bc6"
      },
      "execution_count": 28,
      "outputs": [
        {
          "output_type": "stream",
          "name": "stdout",
          "text": [
            "enetr the list :5,6,8\n",
            "sum of th total 19\n"
          ]
        }
      ]
    },
    {
      "cell_type": "code",
      "source": [
        "i=3\n",
        "while i<=10:\n",
        "  print(i)\n",
        "  i+=1"
      ],
      "metadata": {
        "colab": {
          "base_uri": "https://localhost:8080/"
        },
        "id": "QEmuZuXr9gms",
        "outputId": "f8f06468-0baa-4f9f-aa69-0740b8e72e1a"
      },
      "execution_count": 32,
      "outputs": [
        {
          "output_type": "stream",
          "name": "stdout",
          "text": [
            "3\n",
            "4\n",
            "5\n",
            "6\n",
            "7\n",
            "8\n",
            "9\n",
            "10\n"
          ]
        }
      ]
    },
    {
      "cell_type": "code",
      "source": [
        "n=int(input(\"Enter the num\"))\n",
        "sum=0\n",
        "i=1\n",
        "while i<=n:\n",
        "  sum=sum+i\n",
        "  i+=1\n",
        "print('total sum is',sum)"
      ],
      "metadata": {
        "colab": {
          "base_uri": "https://localhost:8080/"
        },
        "id": "M10l5BoH9Z05",
        "outputId": "04345cc7-8bdf-4fc8-cc7d-584449866203"
      },
      "execution_count": 35,
      "outputs": [
        {
          "output_type": "stream",
          "name": "stdout",
          "text": [
            "Enter the num1000\n",
            "total sum is 500500\n"
          ]
        }
      ]
    },
    {
      "cell_type": "code",
      "source": [
        "for i in range (1,8):\n",
        "  for j in range(2,8,3):\n",
        "    print(i,j)"
      ],
      "metadata": {
        "id": "QbsUftDqFIY5"
      },
      "execution_count": null,
      "outputs": []
    },
    {
      "cell_type": "code",
      "source": [
        "x=int(input ('enter the number :'))\n",
        "for i in range(x):\n",
        "  for j in range(i+1):\n",
        "    print(\"*\",end='')\n",
        "  print('')\n"
      ],
      "metadata": {
        "colab": {
          "base_uri": "https://localhost:8080/"
        },
        "id": "PWdh41nKGReU",
        "outputId": "d30188ce-2773-47a2-8b8d-fc6173aed35b"
      },
      "execution_count": 62,
      "outputs": [
        {
          "output_type": "stream",
          "name": "stdout",
          "text": [
            "enter the number :10\n",
            "*\n",
            "**\n",
            "***\n",
            "****\n",
            "*****\n",
            "******\n",
            "*******\n",
            "********\n",
            "*********\n",
            "**********\n"
          ]
        }
      ]
    },
    {
      "cell_type": "code",
      "source": [
        "list=[200,20,345,333,4567,34,3,4,2018]\n",
        "for i in list:\n",
        "  if i>=500:\n",
        "    break\n",
        "  print(i)"
      ],
      "metadata": {
        "colab": {
          "base_uri": "https://localhost:8080/"
        },
        "id": "VLl66LvQJm0j",
        "outputId": "d4e659da-99b5-4c33-fc61-75ee94623f8e"
      },
      "execution_count": 64,
      "outputs": [
        {
          "output_type": "stream",
          "name": "stdout",
          "text": [
            "200\n",
            "20\n",
            "345\n",
            "333\n"
          ]
        }
      ]
    },
    {
      "cell_type": "code",
      "source": [
        "list=[200,20,345,333,4567,34,3,4,2018]\n",
        "for i in list :\n",
        "  if i>=500:\n",
        "    continue\n",
        "  print(i)"
      ],
      "metadata": {
        "colab": {
          "base_uri": "https://localhost:8080/"
        },
        "id": "XPbPV7mMKDok",
        "outputId": "71288400-3006-41af-d237-e9cc2fb9161a"
      },
      "execution_count": 65,
      "outputs": [
        {
          "output_type": "stream",
          "name": "stdout",
          "text": [
            "200\n",
            "20\n",
            "345\n",
            "333\n",
            "34\n",
            "3\n",
            "4\n"
          ]
        }
      ]
    },
    {
      "cell_type": "code",
      "source": [
        "for i in range (100):\n",
        "  if i%9==0:\n",
        "    print(i)\n",
        "  else:\n",
        "    pass"
      ],
      "metadata": {
        "colab": {
          "base_uri": "https://localhost:8080/"
        },
        "id": "UmC2kEZ6LfkM",
        "outputId": "3c52bbe3-adc7-4b5a-d6d1-0b09f048ee33"
      },
      "execution_count": 75,
      "outputs": [
        {
          "output_type": "stream",
          "name": "stdout",
          "text": [
            "0\n",
            "9\n",
            "18\n",
            "27\n",
            "36\n",
            "45\n",
            "54\n",
            "63\n",
            "72\n",
            "81\n",
            "90\n",
            "99\n"
          ]
        }
      ]
    },
    {
      "cell_type": "code",
      "source": [
        "s='learning python is very easy'\n",
        "print(s[0])\n",
        "print(s[:5])\n",
        "print(s[2:9])\n",
        "print(s[::-1])\n",
        "print(s[2:10:3])\n",
        "print(s[-10:-3])\n",
        "print(s[::])\n",
        "print(s[2:])"
      ],
      "metadata": {
        "colab": {
          "base_uri": "https://localhost:8080/"
        },
        "id": "wEEXF-8aMSoK",
        "outputId": "3bff3db7-ac10-426a-fb00-0bced72aa6d1"
      },
      "execution_count": 80,
      "outputs": [
        {
          "output_type": "stream",
          "name": "stdout",
          "text": [
            "l\n",
            "learn\n",
            "arning \n",
            "ysae yrev si nohtyp gninrael\n",
            "ai \n",
            " very e\n",
            "learning python is very easy\n",
            "arning python is very easy\n"
          ]
        }
      ]
    },
    {
      "cell_type": "code",
      "source": [
        "s='learning python is very easy'\n",
        "n=len(s)\n",
        "i=-1\n",
        "while i>=-n:\n",
        "  print(s[i],end='')\n",
        "  i=i-1\n"
      ],
      "metadata": {
        "colab": {
          "base_uri": "https://localhost:8080/"
        },
        "id": "-698-l0_NmBK",
        "outputId": "8acbf1dd-0aa6-4240-e2fc-1fc92f8413cf"
      },
      "execution_count": 99,
      "outputs": [
        {
          "output_type": "stream",
          "name": "stdout",
          "text": [
            "ysae yrev si nohtyp gninrael"
          ]
        }
      ]
    },
    {
      "cell_type": "code",
      "source": [
        "s='dada'\n",
        "\n",
        "print('d' not in s)"
      ],
      "metadata": {
        "colab": {
          "base_uri": "https://localhost:8080/"
        },
        "id": "bOypV5RtRpFI",
        "outputId": "dedf1f07-2a93-465f-d3e8-4442b960daff"
      },
      "execution_count": 102,
      "outputs": [
        {
          "output_type": "stream",
          "name": "stdout",
          "text": [
            "False\n"
          ]
        }
      ]
    },
    {
      "cell_type": "code",
      "source": [
        "s='data'\n",
        "s.find('t')"
      ],
      "metadata": {
        "colab": {
          "base_uri": "https://localhost:8080/"
        },
        "id": "UwHSm9GUSAL8",
        "outputId": "a3e666f7-ae95-4dae-83df-ebc98e697563"
      },
      "execution_count": 104,
      "outputs": [
        {
          "output_type": "execute_result",
          "data": {
            "text/plain": [
              "2"
            ]
          },
          "metadata": {},
          "execution_count": 104
        }
      ]
    },
    {
      "cell_type": "code",
      "source": [
        "s=\"ahsgdghahdsgdhjggsahssaafdgdss\"\n",
        "s.count('d')"
      ],
      "metadata": {
        "colab": {
          "base_uri": "https://localhost:8080/"
        },
        "id": "QiaY1hLhTBWr",
        "outputId": "87bd68d2-3937-43b0-9589-1fec3534afa6"
      },
      "execution_count": 107,
      "outputs": [
        {
          "output_type": "execute_result",
          "data": {
            "text/plain": [
              "5"
            ]
          },
          "metadata": {},
          "execution_count": 107
        }
      ]
    },
    {
      "cell_type": "code",
      "source": [
        "s='2,6,1993'\n",
        "m=s.split(',')\n",
        "for i in m:\n",
        "  print(i,end=' ')"
      ],
      "metadata": {
        "colab": {
          "base_uri": "https://localhost:8080/"
        },
        "id": "2r4Tq3u6TRQd",
        "outputId": "bb07a42b-dc43-439d-a80a-7cfbe4756614"
      },
      "execution_count": 122,
      "outputs": [
        {
          "output_type": "stream",
          "name": "stdout",
          "text": [
            "2 6 1993 "
          ]
        }
      ]
    },
    {
      "cell_type": "code",
      "source": [
        "s='2','6','1993'\n",
        "'_'.join(s)"
      ],
      "metadata": {
        "colab": {
          "base_uri": "https://localhost:8080/",
          "height": 35
        },
        "id": "FrLoK08HUsYq",
        "outputId": "021a3056-4e01-4b10-982f-de5b492d4992"
      },
      "execution_count": 124,
      "outputs": [
        {
          "output_type": "execute_result",
          "data": {
            "text/plain": [
              "'2_6_1993'"
            ],
            "application/vnd.google.colaboratory.intrinsic+json": {
              "type": "string"
            }
          },
          "metadata": {},
          "execution_count": 124
        }
      ]
    },
    {
      "cell_type": "code",
      "source": [
        "name ='amarsinh'\n",
        "age=30\n",
        "salary=1500000\n",
        "print('emp name {a} and his age  {c} his current salary is {p}'.format(a=name,c=age ,p=salary))"
      ],
      "metadata": {
        "colab": {
          "base_uri": "https://localhost:8080/"
        },
        "id": "oq592nLqVLJZ",
        "outputId": "9ed5b6dc-06f6-4341-8043-edb3f3531f7b"
      },
      "execution_count": 127,
      "outputs": [
        {
          "output_type": "stream",
          "name": "stdout",
          "text": [
            "emp name amarsinh and his age  30 his current salary is 1500000\n"
          ]
        }
      ]
    },
    {
      "cell_type": "code",
      "source": [
        "s='learning python is very easy'\n",
        "l=s.split()\n",
        "l2=l[::-1]\n",
        "l3=' '.join(l2)\n",
        "print(l3)"
      ],
      "metadata": {
        "colab": {
          "base_uri": "https://localhost:8080/"
        },
        "id": "rogP-zM1WoKJ",
        "outputId": "ae3fdec6-5df8-46cb-f5f2-00c80d8174c2"
      },
      "execution_count": 142,
      "outputs": [
        {
          "output_type": "stream",
          "name": "stdout",
          "text": [
            "easy very is python learning\n"
          ]
        }
      ]
    },
    {
      "cell_type": "code",
      "source": [
        "s=input(\"enetr the string :\")\n",
        "l=[]\n",
        "for i in s :\n",
        "  if i not in l:\n",
        "    l.append(i)\n",
        "  output= ' '.join(l)\n",
        "print(output)"
      ],
      "metadata": {
        "colab": {
          "base_uri": "https://localhost:8080/"
        },
        "id": "B-TDE4gEaTLT",
        "outputId": "14a82ff7-c6f1-4b2c-9aff-edaf314c68da"
      },
      "execution_count": 145,
      "outputs": [
        {
          "output_type": "stream",
          "name": "stdout",
          "text": [
            "enetr the string :afsahgdahjgdgdhdh\n",
            "a f s h g d j\n"
          ]
        }
      ]
    },
    {
      "cell_type": "code",
      "source": [
        "\n",
        "l=[]\n",
        "for i in s:\n",
        "  if i not in l:\n",
        "    l.append(i)\n",
        "  output=' '.join(l)\n",
        "print(output)"
      ],
      "metadata": {
        "colab": {
          "base_uri": "https://localhost:8080/"
        },
        "id": "kd2vK0myccpD",
        "outputId": "d88a5034-81c0-4f52-8b95-ebab44e22e91"
      },
      "execution_count": 152,
      "outputs": [
        {
          "output_type": "stream",
          "name": "stdout",
          "text": [
            "enetr the string :asdfdaassddfggsaa\n",
            "a s d f g\n"
          ]
        }
      ]
    },
    {
      "cell_type": "code",
      "source": [
        "s=input('enetr the string :')\n",
        "d={}\n",
        "for x in s :\n",
        "  if x in d.keys():\n",
        "    d[x]=d[x]+1\n",
        "  else:\n",
        "    d[x]=1\n",
        "print(d)\n",
        "\n"
      ],
      "metadata": {
        "colab": {
          "base_uri": "https://localhost:8080/"
        },
        "id": "3ILrepU5eZBm",
        "outputId": "e542ea2a-24b9-448b-bcda-47b7ebe3c54e"
      },
      "execution_count": 157,
      "outputs": [
        {
          "output_type": "stream",
          "name": "stdout",
          "text": [
            "enetr the string :qwerttrewwqweert\n",
            "{'q': 2, 'w': 4, 'e': 4, 'r': 3, 't': 3}\n"
          ]
        }
      ]
    },
    {
      "cell_type": "code",
      "source": [
        "s=str(input('enetr the string:'))\n",
        "d={}\n",
        "for i in s:\n",
        "  if i in d.keys():\n",
        "    d[i]=d[i]+1\n",
        "  else:\n",
        "    d[i]=1\n",
        "print(d)"
      ],
      "metadata": {
        "colab": {
          "base_uri": "https://localhost:8080/"
        },
        "id": "wTiP4qmFgLhp",
        "outputId": "4b236e52-2e6c-4ebe-dd34-7f526803ba1d"
      },
      "execution_count": 2,
      "outputs": [
        {
          "output_type": "stream",
          "name": "stdout",
          "text": [
            "enetr the string:asdfdsfgnjkjghrfyfc\n",
            "{'a': 1, 's': 2, 'd': 2, 'f': 4, 'g': 2, 'n': 1, 'j': 2, 'k': 1, 'h': 1, 'r': 1, 'y': 1, 'c': 1}\n"
          ]
        }
      ]
    },
    {
      "cell_type": "code",
      "source": [
        "del list\n",
        "l=list(range(0,10))\n",
        "print(l)"
      ],
      "metadata": {
        "colab": {
          "base_uri": "https://localhost:8080/"
        },
        "id": "QUSpV8f3wPjS",
        "outputId": "2f199a16-124d-4746-e1bc-1097b8362ba2"
      },
      "execution_count": 161,
      "outputs": [
        {
          "output_type": "stream",
          "name": "stdout",
          "text": [
            "[0, 1, 2, 3, 4, 5, 6, 7, 8, 9]\n"
          ]
        }
      ]
    },
    {
      "cell_type": "code",
      "source": [
        "l=list(range(0,10))\n",
        "print(l)"
      ],
      "metadata": {
        "colab": {
          "base_uri": "https://localhost:8080/"
        },
        "id": "NFKIOVb1w8SO",
        "outputId": "f6c65975-a547-42b1-f9a0-80c37f183870"
      },
      "execution_count": 163,
      "outputs": [
        {
          "output_type": "stream",
          "name": "stdout",
          "text": [
            "[0, 1, 2, 3, 4, 5, 6, 7, 8, 9]\n"
          ]
        }
      ]
    },
    {
      "cell_type": "code",
      "source": [
        "\n",
        "n=str(input(\"enetr the list: \"))\n",
        "d={}\n",
        "for i in n:\n",
        "  if i in d.keys():\n",
        "    d[i]=d[i]+1\n",
        "  else:\n",
        "    d[i]=1\n",
        "print(d)\n"
      ],
      "metadata": {
        "colab": {
          "base_uri": "https://localhost:8080/"
        },
        "id": "H9CgkiqLxSUH",
        "outputId": "fc2ee032-a329-4471-bbf2-53bfd69eaabc"
      },
      "execution_count": 1,
      "outputs": [
        {
          "output_type": "stream",
          "name": "stdout",
          "text": [
            "enetr the list: 12324567887665423\n",
            "{'1': 1, '2': 3, '3': 2, '4': 2, '5': 2, '6': 3, '7': 2, '8': 2}\n"
          ]
        }
      ]
    },
    {
      "cell_type": "code",
      "source": [
        "lst=[]\n",
        "lst.append('100')\n",
        "lst.append('700')\n",
        "print(lst)"
      ],
      "metadata": {
        "colab": {
          "base_uri": "https://localhost:8080/"
        },
        "id": "vXW-HIx5zcRB",
        "outputId": "a2ff0c03-0562-4953-c93f-440078ac4e4d"
      },
      "execution_count": 4,
      "outputs": [
        {
          "output_type": "stream",
          "name": "stdout",
          "text": [
            "['100', '700']\n"
          ]
        }
      ]
    },
    {
      "cell_type": "code",
      "source": [
        "list=[]\n",
        "for i in range (101):\n",
        "  if i%10==0:\n",
        "    list.append(i)\n",
        "print(list)"
      ],
      "metadata": {
        "colab": {
          "base_uri": "https://localhost:8080/"
        },
        "id": "LvPTNdG70DIu",
        "outputId": "5ce59e5e-e646-4484-e8a1-8b7f51608d25"
      },
      "execution_count": 5,
      "outputs": [
        {
          "output_type": "stream",
          "name": "stdout",
          "text": [
            "[0, 10, 20, 30, 40, 50, 60, 70, 80, 90, 100]\n"
          ]
        }
      ]
    },
    {
      "cell_type": "code",
      "source": [
        "l=[1,888,3,4,5,6]\n",
        "\n",
        "print(l.pop())\n",
        "print(l.pop(1))\n"
      ],
      "metadata": {
        "colab": {
          "base_uri": "https://localhost:8080/"
        },
        "id": "WPKKnPgf0j0w",
        "outputId": "8704abfc-e1ca-4d80-86ab-1497f356c91a"
      },
      "execution_count": 18,
      "outputs": [
        {
          "output_type": "stream",
          "name": "stdout",
          "text": [
            "6\n",
            "888\n"
          ]
        }
      ]
    },
    {
      "cell_type": "code",
      "source": [
        "list1=['mango','banana','orange']\n",
        "del list1[1]\n",
        "list1"
      ],
      "metadata": {
        "colab": {
          "base_uri": "https://localhost:8080/"
        },
        "id": "v1bcnyyB1xem",
        "outputId": "966411fd-70e7-4346-d402-d5464c4f0846"
      },
      "execution_count": 19,
      "outputs": [
        {
          "output_type": "execute_result",
          "data": {
            "text/plain": [
              "['mango', 'orange']"
            ]
          },
          "metadata": {},
          "execution_count": 19
        }
      ]
    },
    {
      "cell_type": "code",
      "source": [
        "list1=['mango','banana','orange']\n",
        "list1.reverse()\n",
        "list1\n"
      ],
      "metadata": {
        "colab": {
          "base_uri": "https://localhost:8080/"
        },
        "id": "sCVecJse2lGX",
        "outputId": "df0f3488-50ba-45f9-e82a-83d0361d2aba"
      },
      "execution_count": 24,
      "outputs": [
        {
          "output_type": "execute_result",
          "data": {
            "text/plain": [
              "['orange', 'banana', 'mango']"
            ]
          },
          "metadata": {},
          "execution_count": 24
        }
      ]
    },
    {
      "cell_type": "code",
      "source": [
        "list1=['mango','banana','orange']\n",
        "list1.sort()\n",
        "list1"
      ],
      "metadata": {
        "colab": {
          "base_uri": "https://localhost:8080/"
        },
        "id": "hGIeCaON285P",
        "outputId": "42d20eef-6d9f-47cb-a016-324725de9844"
      },
      "execution_count": 25,
      "outputs": [
        {
          "output_type": "execute_result",
          "data": {
            "text/plain": [
              "['banana', 'mango', 'orange']"
            ]
          },
          "metadata": {},
          "execution_count": 25
        }
      ]
    },
    {
      "cell_type": "code",
      "source": [
        "list1=['mango','banana','orange','papaya']\n",
        "list1.sort(reverse=True)\n",
        "list1"
      ],
      "metadata": {
        "colab": {
          "base_uri": "https://localhost:8080/"
        },
        "id": "eaRAWv4b3Hpj",
        "outputId": "d5469877-5124-4a07-f73e-e91c948be3c5"
      },
      "execution_count": 28,
      "outputs": [
        {
          "output_type": "execute_result",
          "data": {
            "text/plain": [
              "['papaya', 'orange', 'mango', 'banana']"
            ]
          },
          "metadata": {},
          "execution_count": 28
        }
      ]
    },
    {
      "cell_type": "code",
      "source": [
        "x=['mango','banana','orange','papaya']\n",
        "x=y\n",
        "print(id(x))\n",
        "print(id(y))\n"
      ],
      "metadata": {
        "colab": {
          "base_uri": "https://localhost:8080/"
        },
        "id": "PbJ4q6jh3auj",
        "outputId": "351e976b-8749-4bb0-8786-cc58225c1746"
      },
      "execution_count": 31,
      "outputs": [
        {
          "output_type": "stream",
          "name": "stdout",
          "text": [
            "140498168763328\n",
            "140498168763328\n"
          ]
        }
      ]
    },
    {
      "cell_type": "markdown",
      "source": [
        "**cloning**"
      ],
      "metadata": {
        "id": "Myi2QVv34PIt"
      }
    },
    {
      "cell_type": "code",
      "source": [
        "x=['mango','banana','orange','papaya']\n",
        "y=x[:]\n",
        "print(y)"
      ],
      "metadata": {
        "colab": {
          "base_uri": "https://localhost:8080/"
        },
        "id": "YpnLXzRt33En",
        "outputId": "614b9fcd-92ef-4b09-cb28-99ca8845c518"
      },
      "execution_count": 33,
      "outputs": [
        {
          "output_type": "stream",
          "name": "stdout",
          "text": [
            "['mango', 'banana', 'orange', 'papaya']\n"
          ]
        }
      ]
    },
    {
      "cell_type": "markdown",
      "source": [
        "**copy**"
      ],
      "metadata": {
        "id": "lArHxPae4dWp"
      }
    },
    {
      "cell_type": "code",
      "source": [
        "x=['mango','banana','orange','papaya']\n",
        "y=x.copy()\n",
        "print(y)"
      ],
      "metadata": {
        "colab": {
          "base_uri": "https://localhost:8080/"
        },
        "id": "06YmH4PG4J_h",
        "outputId": "a7d932cd-506f-4674-a5a8-d088a4159fc2"
      },
      "execution_count": 34,
      "outputs": [
        {
          "output_type": "stream",
          "name": "stdout",
          "text": [
            "['mango', 'banana', 'orange', 'papaya']\n"
          ]
        }
      ]
    },
    {
      "cell_type": "code",
      "source": [
        "x=[10,20,25]\n",
        "y=x*3\n",
        "print(y)"
      ],
      "metadata": {
        "colab": {
          "base_uri": "https://localhost:8080/"
        },
        "id": "uIQsEfJN4hde",
        "outputId": "db993067-87c5-473f-ce3d-9605ebc52da9"
      },
      "execution_count": 35,
      "outputs": [
        {
          "output_type": "stream",
          "name": "stdout",
          "text": [
            "[10, 20, 25, 10, 20, 25, 10, 20, 25]\n"
          ]
        }
      ]
    },
    {
      "cell_type": "code",
      "source": [
        "n=[24,35,[34,45,67]]\n",
        "print(n[2])\n",
        "print(n[2][2])\n",
        "print(n[2][1])"
      ],
      "metadata": {
        "colab": {
          "base_uri": "https://localhost:8080/"
        },
        "id": "kE3irBIh5RdW",
        "outputId": "0a261cee-e6d7-4139-9a91-9d1e257fbd2a"
      },
      "execution_count": 45,
      "outputs": [
        {
          "output_type": "stream",
          "name": "stdout",
          "text": [
            "[34, 45, 67]\n",
            "67\n",
            "45\n"
          ]
        }
      ]
    },
    {
      "cell_type": "code",
      "source": [
        "n=[[10,20,30],[77,88,99],[51,71,81]]\n",
        "for i in n:\n",
        "  print(i)"
      ],
      "metadata": {
        "colab": {
          "base_uri": "https://localhost:8080/"
        },
        "id": "9LzyIIwu83Y9",
        "outputId": "ecfe0b56-8977-4ada-ecdc-e94e9b1869fb"
      },
      "execution_count": 47,
      "outputs": [
        {
          "output_type": "stream",
          "name": "stdout",
          "text": [
            "[10, 20, 30]\n",
            "[77, 88, 99]\n",
            "[51, 71, 81]\n"
          ]
        }
      ]
    },
    {
      "cell_type": "code",
      "source": [
        "n=[[10,20,30],[77,88,99],[51,71,81]]\n",
        "for i in range(len(n)):\n",
        "   for j in range(len(n[i])):\n",
        "     print(n[i][j] ,end=' ')\n",
        "   print()"
      ],
      "metadata": {
        "colab": {
          "base_uri": "https://localhost:8080/"
        },
        "id": "q-VwHN3U9pTd",
        "outputId": "a69bb5f7-d689-407c-da72-372fe162a46e"
      },
      "execution_count": 74,
      "outputs": [
        {
          "output_type": "stream",
          "name": "stdout",
          "text": [
            "10 20 30 \n",
            "77 88 99 \n",
            "51 71 81 \n"
          ]
        }
      ]
    },
    {
      "cell_type": "code",
      "source": [
        "s=[x*x for x in range (1,11)]\n",
        "print(s)"
      ],
      "metadata": {
        "colab": {
          "base_uri": "https://localhost:8080/"
        },
        "id": "IGlQfiu-COun",
        "outputId": "523759a9-095f-432c-d42a-b740f9684f01"
      },
      "execution_count": 79,
      "outputs": [
        {
          "output_type": "stream",
          "name": "stdout",
          "text": [
            "[1, 4, 9, 16, 25, 36, 49, 64, 81, 100]\n"
          ]
        }
      ]
    },
    {
      "cell_type": "code",
      "source": [
        "s=[x*x*x for x in range (1,11)]\n",
        "print(s)"
      ],
      "metadata": {
        "colab": {
          "base_uri": "https://localhost:8080/"
        },
        "id": "iZFydtp6DURi",
        "outputId": "38decb7a-85db-4349-e9e0-0bd5e3687c5e"
      },
      "execution_count": 82,
      "outputs": [
        {
          "output_type": "stream",
          "name": "stdout",
          "text": [
            "[1, 8, 27, 64, 125, 216, 343, 512, 729, 1000]\n"
          ]
        }
      ]
    },
    {
      "cell_type": "code",
      "source": [
        "n=['amar','sopan','vishal','dhiraj','rushi']\n",
        "f=[i[0] for i in n]\n",
        "print(f)"
      ],
      "metadata": {
        "colab": {
          "base_uri": "https://localhost:8080/"
        },
        "id": "tN3ngkI3DjqI",
        "outputId": "d1cf2c1e-16da-4ac6-ff93-90e03261bb3a"
      },
      "execution_count": 93,
      "outputs": [
        {
          "output_type": "stream",
          "name": "stdout",
          "text": [
            "['a', 's', 'v', 'd', 'r']\n"
          ]
        }
      ]
    },
    {
      "cell_type": "code",
      "source": [
        "n=['amar','sopan','vishal','dhiraj','rushi']\n",
        "for i in n :\n",
        "  print(i[0],end=' ')\n",
        "\n",
        ""
      ],
      "metadata": {
        "colab": {
          "base_uri": "https://localhost:8080/"
        },
        "id": "VRjFOTkuGfTQ",
        "outputId": "299d831d-4950-45ac-b487-63efd06bc495"
      },
      "execution_count": 112,
      "outputs": [
        {
          "output_type": "stream",
          "name": "stdout",
          "text": [
            "a s v d r "
          ]
        }
      ]
    },
    {
      "cell_type": "code",
      "source": [
        "for i in n:\n",
        "  print(i[-1],end=' ')"
      ],
      "metadata": {
        "colab": {
          "base_uri": "https://localhost:8080/"
        },
        "id": "CTHE-ldrH8wQ",
        "outputId": "ee0c56ff-36da-401a-a3eb-0c325fb322d1"
      },
      "execution_count": 116,
      "outputs": [
        {
          "output_type": "stream",
          "name": "stdout",
          "text": [
            "r n l j i "
          ]
        }
      ]
    },
    {
      "cell_type": "code",
      "source": [
        "list1=['amar','sopan','vishal','dhiraj','rushi']\n",
        "i=0\n",
        "while i<len(list1):\n",
        "  print(n[i])\n",
        "  i=i+1"
      ],
      "metadata": {
        "colab": {
          "base_uri": "https://localhost:8080/"
        },
        "id": "OBr87ye0IJo2",
        "outputId": "507e2917-dce3-4123-f507-bc5355fc9744"
      },
      "execution_count": 119,
      "outputs": [
        {
          "output_type": "stream",
          "name": "stdout",
          "text": [
            "amar\n",
            "sopan\n",
            "vishal\n",
            "dhiraj\n",
            "rushi\n"
          ]
        }
      ]
    },
    {
      "cell_type": "code",
      "source": [
        "list1=['amar','sopan','vishal','dhiraj','rushi']\n",
        "[print(x) for x in list1]"
      ],
      "metadata": {
        "colab": {
          "base_uri": "https://localhost:8080/"
        },
        "id": "EebNIZaGJQya",
        "outputId": "5a7bbc7c-8c98-4f2d-8388-20fca6ceb98d"
      },
      "execution_count": 124,
      "outputs": [
        {
          "output_type": "stream",
          "name": "stdout",
          "text": [
            "amar\n",
            "sopan\n",
            "vishal\n",
            "dhiraj\n",
            "rushi\n"
          ]
        },
        {
          "output_type": "execute_result",
          "data": {
            "text/plain": [
              "[None, None, None, None, None]"
            ]
          },
          "metadata": {},
          "execution_count": 124
        }
      ]
    },
    {
      "cell_type": "code",
      "source": [
        "n=['amar','sopan','vishal','dhiraj','rushi','anu','asha','roony']\n",
        "l=[]\n",
        "for i in n:\n",
        "  if i[0]=='a' in i:\n",
        "    l.append(i)\n",
        "print(l)\n",
        "\n"
      ],
      "metadata": {
        "colab": {
          "base_uri": "https://localhost:8080/"
        },
        "id": "EncYuZkvKAtB",
        "outputId": "1e60d5e2-4bf7-4f8d-dbed-792773ec40e3"
      },
      "execution_count": 133,
      "outputs": [
        {
          "output_type": "stream",
          "name": "stdout",
          "text": [
            "['amar', 'anu', 'asha']\n"
          ]
        }
      ]
    },
    {
      "cell_type": "code",
      "source": [
        "n=['amar','sopan','vishal','dhiraj','rushi','anu','asha','roony']\n",
        "l=[]\n",
        "for i in n:\n",
        "  if i[1]=='o' in i:\n",
        "    l.append(i)\n",
        "print(l)\n"
      ],
      "metadata": {
        "colab": {
          "base_uri": "https://localhost:8080/"
        },
        "id": "eDBTgEzPMZHL",
        "outputId": "43ef95fe-5ef7-415d-c95e-068176296bb7"
      },
      "execution_count": 134,
      "outputs": [
        {
          "output_type": "stream",
          "name": "stdout",
          "text": [
            "['sopan', 'roony']\n"
          ]
        }
      ]
    },
    {
      "cell_type": "code",
      "source": [
        "n=['amar','sopan','vishal','dhiraj','rushi','anu','asha','roony']\n",
        "list11=[i for i in n if i !='dhiraj']\n",
        "print(list1)"
      ],
      "metadata": {
        "colab": {
          "base_uri": "https://localhost:8080/"
        },
        "id": "XTzV5C90MhTU",
        "outputId": "89f407be-0d7e-4a22-91dc-1d6d08e5f7c5"
      },
      "execution_count": 138,
      "outputs": [
        {
          "output_type": "stream",
          "name": "stdout",
          "text": [
            "['amar', 'sopan', 'vishal', 'dhiraj', 'rushi']\n"
          ]
        }
      ]
    },
    {
      "cell_type": "code",
      "source": [],
      "metadata": {
        "id": "H7YhGfo_NXrI"
      },
      "execution_count": null,
      "outputs": []
    }
  ]
}