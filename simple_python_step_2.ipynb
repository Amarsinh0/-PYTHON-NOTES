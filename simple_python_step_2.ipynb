{
  "nbformat": 4,
  "nbformat_minor": 0,
  "metadata": {
    "colab": {
      "provenance": [],
      "authorship_tag": "ABX9TyNWRTamVLl7H2Y68PBCA+gJ",
      "include_colab_link": true
    },
    "kernelspec": {
      "name": "python3",
      "display_name": "Python 3"
    },
    "language_info": {
      "name": "python"
    }
  },
  "cells": [
    {
      "cell_type": "markdown",
      "metadata": {
        "id": "view-in-github",
        "colab_type": "text"
      },
      "source": [
        "<a href=\"https://colab.research.google.com/github/Amarsinh0/-PYTHON-NOTES/blob/main/simple_python_step_2.ipynb\" target=\"_parent\"><img src=\"https://colab.research.google.com/assets/colab-badge.svg\" alt=\"Open In Colab\"/></a>"
      ]
    },
    {
      "cell_type": "markdown",
      "source": [
        "if x evaluate to true then result is x otherwise resultwise result is y\n",
        "\n",
        "\n"
      ],
      "metadata": {
        "id": "yCQcJJIVKBWC"
      }
    },
    {
      "cell_type": "code",
      "execution_count": null,
      "metadata": {
        "id": "kI9hJ20pJ-1l",
        "colab": {
          "base_uri": "https://localhost:8080/"
        },
        "outputId": "d3344a1b-f0a8-4b3a-fb76-cc58c7956695"
      },
      "outputs": [
        {
          "output_type": "stream",
          "name": "stdout",
          "text": [
            "10\n",
            "20\n"
          ]
        }
      ],
      "source": [
        "print(10 or 20)\n",
        "print(0 or 20)"
      ]
    },
    {
      "cell_type": "markdown",
      "source": [
        "if x evaluate to false then result is True otherwise false"
      ],
      "metadata": {
        "id": "7_D62aUdLFLB"
      }
    },
    {
      "cell_type": "code",
      "source": [
        "print(not 10)\n",
        "not 0"
      ],
      "metadata": {
        "colab": {
          "base_uri": "https://localhost:8080/"
        },
        "id": "eylKphqgLX3m",
        "outputId": "c8c6afc7-e26c-4ddc-f127-53383555086c"
      },
      "execution_count": null,
      "outputs": [
        {
          "output_type": "stream",
          "name": "stdout",
          "text": [
            "False\n"
          ]
        },
        {
          "output_type": "execute_result",
          "data": {
            "text/plain": [
              "True"
            ]
          },
          "metadata": {},
          "execution_count": 3
        }
      ]
    },
    {
      "cell_type": "markdown",
      "source": [
        "**True and False relation**"
      ],
      "metadata": {
        "id": "rmBOa7jjLvvc"
      }
    },
    {
      "cell_type": "code",
      "source": [
        "print(True and False)\n",
        "print(True or True)\n",
        "print(True ^ False)\n",
        "print(~ True)\n",
        "print( True << 2) # bitwise left shift\n",
        "print(True>>2)  # bitwise right shift"
      ],
      "metadata": {
        "colab": {
          "base_uri": "https://localhost:8080/"
        },
        "id": "DLzY21C-L6cm",
        "outputId": "5aec37ca-e52d-45d5-cdde-ce5197803f90"
      },
      "execution_count": null,
      "outputs": [
        {
          "output_type": "stream",
          "name": "stdout",
          "text": [
            "False\n",
            "True\n",
            "True\n",
            "-2\n",
            "4\n",
            "0\n"
          ]
        }
      ]
    },
    {
      "cell_type": "code",
      "source": [
        "a=20\n",
        "b=4\n",
        "print(a<<2)\n",
        "print(a>>2)\n",
        "print(a&b)\n",
        "print(a^b) # bitwise xor operator\n",
        "print(~a) # bitwise not operator ( invert indivisual bits)  forumula:  ~ = -x-1"
      ],
      "metadata": {
        "colab": {
          "base_uri": "https://localhost:8080/"
        },
        "id": "YW15t18mNeWY",
        "outputId": "8e5c6709-baad-48c9-8ca0-bd5562687021"
      },
      "execution_count": null,
      "outputs": [
        {
          "output_type": "stream",
          "name": "stdout",
          "text": [
            "80\n",
            "5\n",
            "4\n",
            "16\n",
            "-21\n"
          ]
        }
      ]
    },
    {
      "cell_type": "markdown",
      "source": [
        "IS   ,   IS NOT\n",
        "\n"
      ],
      "metadata": {
        "id": "e0aDHGKiPICL"
      }
    },
    {
      "cell_type": "code",
      "source": [
        "a=10\n",
        "b=10\n",
        "print( a is b)\n",
        "print(  a is not b)"
      ],
      "metadata": {
        "colab": {
          "base_uri": "https://localhost:8080/"
        },
        "id": "SOSRaplDPNgW",
        "outputId": "ba901df7-e90c-422d-9b9f-abe24cf47628"
      },
      "execution_count": null,
      "outputs": [
        {
          "output_type": "stream",
          "name": "stdout",
          "text": [
            "True\n",
            "False\n"
          ]
        }
      ]
    },
    {
      "cell_type": "markdown",
      "source": [
        "**IMPORT MATH**"
      ],
      "metadata": {
        "id": "-vBuTG3HQPNu"
      }
    },
    {
      "cell_type": "code",
      "source": [
        "# import maths module\n",
        "import math\n",
        "math.sqrt(144)"
      ],
      "metadata": {
        "colab": {
          "base_uri": "https://localhost:8080/"
        },
        "id": "rb_npINcPsJU",
        "outputId": "06235e4c-5301-4e4c-f3ee-e2e536eee737"
      },
      "execution_count": null,
      "outputs": [
        {
          "output_type": "execute_result",
          "data": {
            "text/plain": [
              "12.0"
            ]
          },
          "metadata": {},
          "execution_count": 21
        }
      ]
    },
    {
      "cell_type": "code",
      "source": [
        "from math import  ceil,floor, factorial, trunc, gcd, sin, cos , tan,pow\n",
        "print(ceil(10.55))\n",
        "print(floor(22.4))\n",
        "print(factorial(5))\n",
        "print(trunc(22.6))\n",
        "print(pow(10,2))\n",
        "print(sin (60))\n",
        "print(cos(90))\n",
        "print(tan(180))\n"
      ],
      "metadata": {
        "colab": {
          "base_uri": "https://localhost:8080/"
        },
        "id": "0Kx85rsBQXIb",
        "outputId": "c4e4f3dd-b394-4b56-e270-dc11764381c3"
      },
      "execution_count": null,
      "outputs": [
        {
          "output_type": "stream",
          "name": "stdout",
          "text": [
            "11\n",
            "22\n",
            "120\n",
            "22\n",
            "100.0\n",
            "-0.3048106211022167\n",
            "-0.4480736161291701\n",
            "1.3386902103511544\n"
          ]
        }
      ]
    },
    {
      "cell_type": "code",
      "source": [
        "# eval() function take as string and evaluate the reuslt\n",
        "x=eval(\"10+20+30\")\n",
        "print(x)"
      ],
      "metadata": {
        "colab": {
          "base_uri": "https://localhost:8080/"
        },
        "id": "Mhd5Ki5bRsFl",
        "outputId": "b881c532-733d-4a5b-c273-d31b148ac408"
      },
      "execution_count": null,
      "outputs": [
        {
          "output_type": "stream",
          "name": "stdout",
          "text": [
            "60\n"
          ]
        }
      ]
    },
    {
      "cell_type": "code",
      "source": [
        "print(\"hello\",end=' ')\n",
        "print(\"world\")\n"
      ],
      "metadata": {
        "colab": {
          "base_uri": "https://localhost:8080/"
        },
        "id": "QwQqfwMKSNGa",
        "outputId": "9aa9e41c-36be-4563-aa57-103843b2ae49"
      },
      "execution_count": null,
      "outputs": [
        {
          "output_type": "stream",
          "name": "stdout",
          "text": [
            "hello world\n"
          ]
        }
      ]
    },
    {
      "cell_type": "markdown",
      "source": [
        "%i==int ,\n",
        "%d==int ,\n",
        "%f==float ,\n",
        "%s== string type"
      ],
      "metadata": {
        "id": "jogz22nrTjTc"
      }
    },
    {
      "cell_type": "code",
      "source": [
        "a=10\n",
        "b=20\n",
        "c=30\n",
        "\n",
        "print(\"b value is %d and c values is %d and a value is %f\"%(b,c,a))"
      ],
      "metadata": {
        "colab": {
          "base_uri": "https://localhost:8080/"
        },
        "id": "mEx6mm5nSvkX",
        "outputId": "bc5ac203-5e1b-41fb-9329-b22e79951c2c"
      },
      "execution_count": null,
      "outputs": [
        {
          "output_type": "stream",
          "name": "stdout",
          "text": [
            "b value is 20 and c values is 30 and a value is 10.000000\n"
          ]
        }
      ]
    },
    {
      "cell_type": "code",
      "source": [
        "s=\"students\"\n",
        "list=[10,20,30,40]\n",
        "print(\" hello %s the list of the item is %s\"%(s,list))"
      ],
      "metadata": {
        "colab": {
          "base_uri": "https://localhost:8080/"
        },
        "id": "hjqnw8XAT9EJ",
        "outputId": "d7697262-7044-407e-cb19-0b189a14a0c6"
      },
      "execution_count": null,
      "outputs": [
        {
          "output_type": "stream",
          "name": "stdout",
          "text": [
            " hello students the list of the item is [10, 20, 30, 40]\n"
          ]
        }
      ]
    },
    {
      "cell_type": "markdown",
      "source": [
        "**control flow statement**\n",
        "\n",
        "\n"
      ],
      "metadata": {
        "id": "EN2kQP7KVAz2"
      }
    },
    {
      "cell_type": "code",
      "source": [
        "num1=int(input(\"enter num1: \"))\n",
        "num2=int(input(\"enetr num2: \"))\n",
        "if num1>num2:\n",
        "   print(\" num1 greter\")\n",
        "else:\n",
        "  print(\"num2 is greter\")"
      ],
      "metadata": {
        "colab": {
          "base_uri": "https://localhost:8080/"
        },
        "id": "e-0XYd7tVJxR",
        "outputId": "a906a83a-d716-4452-e829-cf44396ddd94"
      },
      "execution_count": null,
      "outputs": [
        {
          "output_type": "stream",
          "name": "stdout",
          "text": [
            "enter num1: 24\n",
            "enetr num2: 56\n",
            "num2 is greter\n"
          ]
        }
      ]
    },
    {
      "cell_type": "markdown",
      "source": [
        "*ITERATIVE STATEMENT*"
      ],
      "metadata": {
        "id": "3Vf7GD7pWQo9"
      }
    },
    {
      "cell_type": "code",
      "source": [
        "name= \"AMARSINH\"\n",
        "for i in name :\n",
        " print(i)"
      ],
      "metadata": {
        "colab": {
          "base_uri": "https://localhost:8080/"
        },
        "id": "Wj7OyLBLWnAl",
        "outputId": "8746ebc2-ae45-4e40-b4c1-fe38cd81e08c"
      },
      "execution_count": null,
      "outputs": [
        {
          "output_type": "stream",
          "name": "stdout",
          "text": [
            "A\n",
            "M\n",
            "A\n",
            "R\n",
            "S\n",
            "I\n",
            "N\n",
            "H\n"
          ]
        }
      ]
    },
    {
      "cell_type": "code",
      "source": [
        "for x in range(5):\n",
        " print(\"hello\")"
      ],
      "metadata": {
        "colab": {
          "base_uri": "https://localhost:8080/"
        },
        "id": "kFtM6dlqW3xI",
        "outputId": "f1fcfb71-81ca-4996-ffca-b8ec552596c0"
      },
      "execution_count": null,
      "outputs": [
        {
          "output_type": "stream",
          "name": "stdout",
          "text": [
            "hello\n",
            "hello\n",
            "hello\n",
            "hello\n",
            "hello\n"
          ]
        }
      ]
    },
    {
      "cell_type": "code",
      "source": [
        "for y in range (21):\n",
        "  if y%2!=0:\n",
        "   print(y)\n",
        " "
      ],
      "metadata": {
        "colab": {
          "base_uri": "https://localhost:8080/"
        },
        "id": "fIuO9ugMXCC1",
        "outputId": "a79054a2-6040-4e54-88a6-8f4e689eba6f"
      },
      "execution_count": null,
      "outputs": [
        {
          "output_type": "stream",
          "name": "stdout",
          "text": [
            "1\n",
            "3\n",
            "5\n",
            "7\n",
            "9\n",
            "11\n",
            "13\n",
            "15\n",
            "17\n",
            "19\n"
          ]
        }
      ]
    },
    {
      "cell_type": "code",
      "source": [
        "for i in range (10,0,-3):\n",
        "  print(i)"
      ],
      "metadata": {
        "colab": {
          "base_uri": "https://localhost:8080/"
        },
        "id": "sGdxpp4BYo9T",
        "outputId": "91bc01dc-5ffc-4807-fba1-9b454a0df378"
      },
      "execution_count": null,
      "outputs": [
        {
          "output_type": "stream",
          "name": "stdout",
          "text": [
            "10\n",
            "7\n",
            "4\n",
            "1\n"
          ]
        }
      ]
    },
    {
      "cell_type": "code",
      "source": [
        "lst= eval(input( \"enter the number : \")\n",
        "sum =0\n",
        "for i in lst:\n",
        "sum=sum+i;\n",
        "print(sum)"
      ],
      "metadata": {
        "id": "HQlkXkyeY_PZ"
      },
      "execution_count": null,
      "outputs": []
    },
    {
      "cell_type": "markdown",
      "source": [
        "**to make pyramid of alphabets**"
      ],
      "metadata": {
        "id": "xHv8Hw82eTUs"
      }
    },
    {
      "cell_type": "code",
      "source": [
        "row= int (input(\"enter the rows: \"))\n",
        "ascii=65\n",
        "for i in range (row):\n",
        "   for j in range (i+1):\n",
        "      alphabet=chr(ascii)\n",
        "      print(alphabet,end='')\n",
        "   ascii=ascii+1\n",
        "   print(\"\\n\")\n"
      ],
      "metadata": {
        "colab": {
          "base_uri": "https://localhost:8080/"
        },
        "id": "TSStMQo5bfVV",
        "outputId": "0eb1397c-0050-4b95-8324-a70d54b3fa2f"
      },
      "execution_count": null,
      "outputs": [
        {
          "output_type": "stream",
          "name": "stdout",
          "text": [
            "enter the rows: 5\n",
            "A\n",
            "\n",
            "BB\n",
            "\n",
            "CCC\n",
            "\n",
            "DDDD\n",
            "\n",
            "EEEEE\n",
            "\n"
          ]
        }
      ]
    },
    {
      "cell_type": "code",
      "source": [
        "rows= int(input(\"enter the number :  \"))\n",
        "for i in range (rows):\n",
        "    for j in range (i+1):\n",
        "      print( \"*\",end=\" \")\n",
        "    print(\"\\n\")"
      ],
      "metadata": {
        "colab": {
          "base_uri": "https://localhost:8080/"
        },
        "id": "Vco831WcCZGK",
        "outputId": "a44045fb-ab46-4480-f10f-2e1673cb05f5"
      },
      "execution_count": 16,
      "outputs": [
        {
          "output_type": "stream",
          "name": "stdout",
          "text": [
            "enter the number :  4\n",
            "* \n",
            "\n",
            "* * \n",
            "\n",
            "* * * \n",
            "\n",
            "* * * * \n",
            "\n"
          ]
        }
      ]
    },
    {
      "cell_type": "code",
      "source": [
        "rows = int(input(\"enter the numner of rows: \"))\n",
        "k=0\n",
        "for i in range (1,rows+1):\n",
        "  for space in range (1,(rows-i)+1):\n",
        "     print( end=\" \")\n",
        "  while k!=(2*i-1):\n",
        "     print(\"*\", end=\"\")\n",
        "     k=k+1\n",
        "  k=0\n",
        "  print()"
      ],
      "metadata": {
        "colab": {
          "base_uri": "https://localhost:8080/"
        },
        "id": "nOJU4ZiMelXu",
        "outputId": "58808c02-4d2d-4c6a-d308-402c10c3661c"
      },
      "execution_count": null,
      "outputs": [
        {
          "output_type": "stream",
          "name": "stdout",
          "text": [
            "enter the numner of rows: 5\n",
            "    *\n",
            "   ***\n",
            "  *****\n",
            " *******\n",
            "*********\n"
          ]
        }
      ]
    },
    {
      "cell_type": "code",
      "source": [
        "rows= int(input(\"enter the rows: \"))\n",
        "num=0\n",
        "for i in range (1,rows+1):\n",
        "   for j in range(1,i+1):\n",
        "    print(num,end=\" \")\n",
        "    num=num+1\n",
        "   print()"
      ],
      "metadata": {
        "id": "YmaKr5p6juBY",
        "colab": {
          "base_uri": "https://localhost:8080/"
        },
        "outputId": "d641ee36-ac5f-4d26-e269-8fe84276bf87"
      },
      "execution_count": 6,
      "outputs": [
        {
          "output_type": "stream",
          "name": "stdout",
          "text": [
            "enter the rows: 4\n",
            "0 \n",
            "1 2 \n",
            "3 4 5 \n",
            "6 7 8 9 \n"
          ]
        }
      ]
    },
    {
      "cell_type": "code",
      "source": [
        "rows= int(input(\"enter the number :  \"))\n",
        "for i in range (rows):\n",
        "    for j in range (i+1):\n",
        "      print( j+1,end=\" \")\n",
        "    print(\"\\n\")"
      ],
      "metadata": {
        "colab": {
          "base_uri": "https://localhost:8080/"
        },
        "id": "NTpnljQeAErQ",
        "outputId": "15d95a59-a124-46c9-871d-6fa9d50c9003"
      },
      "execution_count": 14,
      "outputs": [
        {
          "output_type": "stream",
          "name": "stdout",
          "text": [
            "enter the number :  4\n",
            "1 \n",
            "\n",
            "1 2 \n",
            "\n",
            "1 2 3 \n",
            "\n",
            "1 2 3 4 \n",
            "\n"
          ]
        }
      ]
    }
  ]
}