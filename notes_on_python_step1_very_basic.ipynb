{
  "nbformat": 4,
  "nbformat_minor": 0,
  "metadata": {
    "colab": {
      "provenance": [],
      "authorship_tag": "ABX9TyNINiUmi4SHwFXjRo5ft62Z",
      "include_colab_link": true
    },
    "kernelspec": {
      "name": "python3",
      "display_name": "Python 3"
    },
    "language_info": {
      "name": "python"
    }
  },
  "cells": [
    {
      "cell_type": "markdown",
      "metadata": {
        "id": "view-in-github",
        "colab_type": "text"
      },
      "source": [
        "<a href=\"https://colab.research.google.com/github/Amarsinh0/-PYTHON-NOTES/blob/main/notes_on_python_step1_very_basic.ipynb\" target=\"_parent\"><img src=\"https://colab.research.google.com/assets/colab-badge.svg\" alt=\"Open In Colab\"/></a>"
      ]
    },
    {
      "cell_type": "code",
      "execution_count": null,
      "metadata": {
        "colab": {
          "base_uri": "https://localhost:8080/"
        },
        "id": "_nBHRtqTGWIp",
        "outputId": "09a946f6-8964-4dc7-e87c-154f746262e2"
      },
      "outputs": [
        {
          "output_type": "stream",
          "name": "stdout",
          "text": [
            "HELLO WORLD\n"
          ]
        }
      ],
      "source": [
        "X='HELLO WORLD'\n",
        "print(X)"
      ]
    },
    {
      "cell_type": "code",
      "source": [
        "# check type\n",
        "\n",
        "y=13\n",
        "print(type(y))\n",
        "print(id(y))"
      ],
      "metadata": {
        "colab": {
          "base_uri": "https://localhost:8080/"
        },
        "id": "qbxujjSgG5tO",
        "outputId": "d9b401d0-81a1-4cbe-b7cb-23c8270ae1e5"
      },
      "execution_count": null,
      "outputs": [
        {
          "output_type": "stream",
          "name": "stdout",
          "text": [
            "<class 'int'>\n",
            "9793472\n"
          ]
        }
      ]
    },
    {
      "cell_type": "markdown",
      "source": [
        "# slicing of **string**"
      ],
      "metadata": {
        "id": "S_P2V5MIISz6"
      }
    },
    {
      "cell_type": "code",
      "source": [
        "\n",
        "#string slicing\n",
        "a='artifical intelligance'\n",
        "print(a[3])\n",
        "print(a[-3])\n",
        "print(a[:6])\n",
        "print(a[4:])\n",
        "print(a[2:7])\n",
        "print(a[:])\n",
        "print(a[::-1])   # reverse string"
      ],
      "metadata": {
        "colab": {
          "base_uri": "https://localhost:8080/"
        },
        "id": "n-DfCf17HQlu",
        "outputId": "12be4f0f-133b-4f88-fbb0-c227b7bfacad"
      },
      "execution_count": null,
      "outputs": [
        {
          "output_type": "stream",
          "name": "stdout",
          "text": [
            "i\n",
            "n\n",
            "artifi\n",
            "fical intelligance\n",
            "tific\n",
            "artifical intelligance\n",
            "ecnagilletni lacifitra\n"
          ]
        }
      ]
    },
    {
      "cell_type": "code",
      "source": [
        "# basic \n",
        "print(int(1.99))\n",
        "print(int(True))\n",
        "print(float(False))\n",
        "print(complex(15))\n",
        "print(complex(False))\n",
        "print(bool(0.0))\n",
        "print(bool(100))\n",
        "print(str(10))\n",
        "\n"
      ],
      "metadata": {
        "colab": {
          "base_uri": "https://localhost:8080/"
        },
        "id": "0qPSjrxeIckS",
        "outputId": "cf648a41-bb2f-4831-ff85-1fdac33a3e6d"
      },
      "execution_count": null,
      "outputs": [
        {
          "output_type": "stream",
          "name": "stdout",
          "text": [
            "1\n",
            "1\n",
            "0.0\n",
            "(15+0j)\n",
            "0j\n",
            "False\n",
            "True\n",
            "10\n"
          ]
        }
      ]
    },
    {
      "cell_type": "code",
      "source": [
        "c=[1000,2000]\n",
        "d=bytes(c)\n",
        "print(d)\n",
        "\n",
        "#o/p== bytes must be in range(0, 256)"
      ],
      "metadata": {
        "id": "JXCnDHddKI9U"
      },
      "execution_count": null,
      "outputs": []
    },
    {
      "cell_type": "code",
      "source": [],
      "metadata": {
        "id": "d9LVFEDiK_BY"
      },
      "execution_count": null,
      "outputs": []
    },
    {
      "cell_type": "markdown",
      "source": [
        "**LIST**"
      ],
      "metadata": {
        "id": "52ROm0a8LEpQ"
      }
    },
    {
      "cell_type": "code",
      "source": [
        "#replace elements \n",
        "\n",
        "list1=[5,10.5,'ds',True]\n",
        "list1[0]=100\n",
        "list1[3]='Amar'\n",
        "print(list1)"
      ],
      "metadata": {
        "colab": {
          "base_uri": "https://localhost:8080/"
        },
        "id": "0MLYdCIoLLPn",
        "outputId": "7d20f9b1-3451-4804-90e1-4f07c5b44501"
      },
      "execution_count": null,
      "outputs": [
        {
          "output_type": "stream",
          "name": "stdout",
          "text": [
            "[100, 10.5, 'ds', 'Amar']\n"
          ]
        }
      ]
    },
    {
      "cell_type": "code",
      "source": [
        "#appending  new elements to list\n",
        "\n",
        "list1=[5,10.5,'ds',True]\n",
        "\n",
        "list1.append(88)\n",
        "print(list1)"
      ],
      "metadata": {
        "colab": {
          "base_uri": "https://localhost:8080/"
        },
        "id": "g-blLBk8Mk8g",
        "outputId": "1cd95523-d869-456e-abfc-7179f44cf804"
      },
      "execution_count": null,
      "outputs": [
        {
          "output_type": "stream",
          "name": "stdout",
          "text": [
            "[5, 10.5, 'ds', True, 88]\n"
          ]
        }
      ]
    },
    {
      "cell_type": "code",
      "source": [
        "#remove elemets from list\n",
        "list1=[5,10.5,'ds',True]\n",
        "list1.remove(10.5)\n",
        "print(list1)"
      ],
      "metadata": {
        "colab": {
          "base_uri": "https://localhost:8080/"
        },
        "id": "yBRcLYi_NHvE",
        "outputId": "1dcb3953-31c4-4491-a3d5-2478dc8fa40d"
      },
      "execution_count": null,
      "outputs": [
        {
          "output_type": "stream",
          "name": "stdout",
          "text": [
            "[5, 'ds', True]\n"
          ]
        }
      ]
    },
    {
      "cell_type": "code",
      "source": [
        "# create  list multiple times\n",
        "list1=[5,10.5,'ds',True]\n",
        "lst1=list1*3\n",
        "print(lst1)"
      ],
      "metadata": {
        "colab": {
          "base_uri": "https://localhost:8080/"
        },
        "id": "pc20QII2N1ny",
        "outputId": "c99e7012-e2cb-43b2-8579-29612216cfd2"
      },
      "execution_count": null,
      "outputs": [
        {
          "output_type": "stream",
          "name": "stdout",
          "text": [
            "[5, 10.5, 'ds', True, 5, 10.5, 'ds', True, 5, 10.5, 'ds', True]\n"
          ]
        }
      ]
    },
    {
      "cell_type": "code",
      "source": [],
      "metadata": {
        "id": "ao0UM6CzOnMZ"
      },
      "execution_count": null,
      "outputs": []
    },
    {
      "cell_type": "markdown",
      "source": [
        "**TUPLE**\n"
      ],
      "metadata": {
        "id": "RmtQRSzOOp8U"
      }
    },
    {
      "cell_type": "code",
      "source": [
        "tup=(10,20,30,40)\n",
        "tup[0]=100\n",
        "print(tup)\n",
        "\n",
        "# tuple' object does not support item assignment"
      ],
      "metadata": {
        "id": "ECxAQvFPOyQ7"
      },
      "execution_count": null,
      "outputs": []
    },
    {
      "cell_type": "code",
      "source": [
        "# acccess elements by using index\n",
        "print(tup[3])"
      ],
      "metadata": {
        "colab": {
          "base_uri": "https://localhost:8080/"
        },
        "id": "53iPBEbCPPNV",
        "outputId": "00f5eff7-e0bd-4caf-c5f3-c0777babdbe5"
      },
      "execution_count": null,
      "outputs": [
        {
          "output_type": "stream",
          "name": "stdout",
          "text": [
            "40\n"
          ]
        }
      ]
    },
    {
      "cell_type": "code",
      "source": [
        "# bascis of range \n",
        "\n",
        "for i in range (5):\n",
        "  print(i)\n"
      ],
      "metadata": {
        "colab": {
          "base_uri": "https://localhost:8080/"
        },
        "id": "TvjQ6kfFPp8Z",
        "outputId": "a48d24a1-119b-449c-a421-ba53c7d710b5"
      },
      "execution_count": null,
      "outputs": [
        {
          "output_type": "stream",
          "name": "stdout",
          "text": [
            "0\n",
            "1\n",
            "2\n",
            "3\n",
            "4\n"
          ]
        }
      ]
    },
    {
      "cell_type": "code",
      "source": [
        "for i in range(2,6):\n",
        "  print(i)"
      ],
      "metadata": {
        "colab": {
          "base_uri": "https://localhost:8080/"
        },
        "id": "kcNDsBMbQAdN",
        "outputId": "813c19bb-d91c-40c1-f224-a6a55504a479"
      },
      "execution_count": null,
      "outputs": [
        {
          "output_type": "stream",
          "name": "stdout",
          "text": [
            "2\n",
            "3\n",
            "4\n",
            "5\n"
          ]
        }
      ]
    },
    {
      "cell_type": "code",
      "source": [
        "for i in range (2,10,3):\n",
        "  print(i)"
      ],
      "metadata": {
        "colab": {
          "base_uri": "https://localhost:8080/"
        },
        "id": "H3LrWQzqQKeh",
        "outputId": "ebe26b05-fd97-4b67-d667-213ac93d8fa4"
      },
      "execution_count": null,
      "outputs": [
        {
          "output_type": "stream",
          "name": "stdout",
          "text": [
            "2\n",
            "5\n",
            "8\n"
          ]
        }
      ]
    },
    {
      "cell_type": "markdown",
      "source": [
        "\n",
        "**SET**"
      ],
      "metadata": {
        "id": "b5R1BlNRQayk"
      }
    },
    {
      "cell_type": "code",
      "source": [
        "s={10,20,30,40,55}\n",
        "#adding elements in the list use  ==>  .add \n",
        "s.add(999)\n",
        "print(s)"
      ],
      "metadata": {
        "colab": {
          "base_uri": "https://localhost:8080/"
        },
        "id": "svv3GXR2QeoN",
        "outputId": "5a21f125-9831-4409-9af9-d19306157ddb"
      },
      "execution_count": null,
      "outputs": [
        {
          "output_type": "stream",
          "name": "stdout",
          "text": [
            "{999, 40, 10, 20, 55, 30}\n"
          ]
        }
      ]
    },
    {
      "cell_type": "code",
      "source": [
        "#removinng from the list\n",
        "s.remove(20)\n",
        "print(s)"
      ],
      "metadata": {
        "colab": {
          "base_uri": "https://localhost:8080/"
        },
        "id": "rzZTp8ehQ-U7",
        "outputId": "aaa66c0c-558c-4c5b-a933-52660b10fa97"
      },
      "execution_count": null,
      "outputs": [
        {
          "output_type": "stream",
          "name": "stdout",
          "text": [
            "{999, 40, 10, 55, 30}\n"
          ]
        }
      ]
    },
    {
      "cell_type": "code",
      "source": [
        "# make frozenset\n",
        "s={10,20,30,40,55}\n",
        "set1=frozenset(s)\n",
        "print(set1)"
      ],
      "metadata": {
        "colab": {
          "base_uri": "https://localhost:8080/"
        },
        "id": "IbB-d00pRWf2",
        "outputId": "e200415d-529c-49ab-a4db-835d796d26fe"
      },
      "execution_count": null,
      "outputs": [
        {
          "output_type": "stream",
          "name": "stdout",
          "text": [
            "frozenset({20, 55, 40, 10, 30})\n"
          ]
        }
      ]
    },
    {
      "cell_type": "markdown",
      "source": [
        "**DICTIONARY**"
      ],
      "metadata": {
        "id": "ja0D3GxMSY2_"
      }
    },
    {
      "cell_type": "code",
      "source": [
        "#  change the key values  in dictionary\n",
        "dic={\"name\":\"yash\",\"age\":18, \"habbit\": \"play cricket\"}\n",
        "\n",
        "dic['name']='sangram' # change the values of key name \n",
        "dic['age']=23\n",
        "print(dic)"
      ],
      "metadata": {
        "colab": {
          "base_uri": "https://localhost:8080/"
        },
        "id": "nTikbM4cSec9",
        "outputId": "c1aaa654-0d27-4f8a-a701-de566dfcb6fe"
      },
      "execution_count": null,
      "outputs": [
        {
          "output_type": "stream",
          "name": "stdout",
          "text": [
            "{'name': 'sangram', 'age': 23, 'habbit': 'play cricket'}\n"
          ]
        }
      ]
    },
    {
      "cell_type": "code",
      "source": [
        "#create empty dictionary\n",
        "d={}\n",
        "print(d)"
      ],
      "metadata": {
        "colab": {
          "base_uri": "https://localhost:8080/"
        },
        "id": "-RUbWR0MULno",
        "outputId": "14af0cd9-9561-407a-b038-15c9529810d7"
      },
      "execution_count": null,
      "outputs": [
        {
          "output_type": "stream",
          "name": "stdout",
          "text": [
            "{}\n"
          ]
        }
      ]
    },
    {
      "cell_type": "code",
      "source": [
        " # add elemets in empty list\n",
        "d[\"fruit\"]=\"apple\"\n",
        "d[\"game\"]=\"hockey\"\n",
        "print(d)"
      ],
      "metadata": {
        "colab": {
          "base_uri": "https://localhost:8080/"
        },
        "id": "zeh5J0pbSUj9",
        "outputId": "ea6e2153-0af7-47ec-be82-b1c3b2f85893"
      },
      "execution_count": null,
      "outputs": [
        {
          "output_type": "stream",
          "name": "stdout",
          "text": [
            "{'fruit': 'apple', 'game': 'hockey'}\n"
          ]
        }
      ]
    },
    {
      "cell_type": "markdown",
      "source": [
        "** some basic operaions**"
      ],
      "metadata": {
        "id": "UHcpX59jYE4t"
      }
    },
    {
      "cell_type": "code",
      "source": [
        "\n",
        "\n",
        "a=15\n",
        "b=2\n",
        "print('a+b=',a+b)\n",
        "print('a*b=',a*b)\n",
        "print('a/b=',a/b)\n",
        "print('a//b=',a//b)\n",
        "print('a%b=',a%b)\n",
        "print('a^b=',a^b)\n",
        "print('a**b=',a**b)\n",
        "#etc.."
      ],
      "metadata": {
        "colab": {
          "base_uri": "https://localhost:8080/"
        },
        "id": "XL3ilAP2VqOy",
        "outputId": "476ae238-4958-4a89-a770-7aac9efb9deb"
      },
      "execution_count": null,
      "outputs": [
        {
          "output_type": "stream",
          "name": "stdout",
          "text": [
            "a+b= 17\n",
            "a*b= 30\n",
            "a/b= 7.5\n",
            "a//b= 7\n",
            "a%b= 1\n",
            "a^b= 13\n",
            "a**b= 225\n"
          ]
        }
      ]
    },
    {
      "cell_type": "markdown",
      "source": [
        "*if first argument is zero then result is zero otherwise result is y....(x and y)*"
      ],
      "metadata": {
        "id": "UEETYRVmY1_p"
      }
    },
    {
      "cell_type": "code",
      "source": [
        "10 and 20"
      ],
      "metadata": {
        "colab": {
          "base_uri": "https://localhost:8080/"
        },
        "id": "MIYOzyDiZDgc",
        "outputId": "22d0eaf1-bc12-4a53-cafc-71ca7e3435d5"
      },
      "execution_count": null,
      "outputs": [
        {
          "output_type": "execute_result",
          "data": {
            "text/plain": [
              "20"
            ]
          },
          "metadata": {},
          "execution_count": 105
        }
      ]
    },
    {
      "cell_type": "code",
      "source": [
        "0 and 20"
      ],
      "metadata": {
        "id": "Snk1snP3ZKhP",
        "colab": {
          "base_uri": "https://localhost:8080/"
        },
        "outputId": "a8446be1-6e5b-4048-e998-5a34f664aae6"
      },
      "execution_count": 106,
      "outputs": [
        {
          "output_type": "execute_result",
          "data": {
            "text/plain": [
              "0"
            ]
          },
          "metadata": {},
          "execution_count": 106
        }
      ]
    }
  ]
}