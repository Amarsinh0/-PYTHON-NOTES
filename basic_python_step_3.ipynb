{
  "nbformat": 4,
  "nbformat_minor": 0,
  "metadata": {
    "colab": {
      "provenance": [],
      "authorship_tag": "ABX9TyPO2+3AHK66+Tvpp3V8RyV0",
      "include_colab_link": true
    },
    "kernelspec": {
      "name": "python3",
      "display_name": "Python 3"
    },
    "language_info": {
      "name": "python"
    }
  },
  "cells": [
    {
      "cell_type": "markdown",
      "metadata": {
        "id": "view-in-github",
        "colab_type": "text"
      },
      "source": [
        "<a href=\"https://colab.research.google.com/github/Amarsinh0/-PYTHON-NOTES/blob/main/basic_python_step_3.ipynb\" target=\"_parent\"><img src=\"https://colab.research.google.com/assets/colab-badge.svg\" alt=\"Open In Colab\"/></a>"
      ]
    },
    {
      "cell_type": "markdown",
      "source": [
        "**Transfer statement **\n",
        "\n",
        "1.   break\n",
        "2.   continious\n",
        "\n"
      ],
      "metadata": {
        "id": "Rlqfl21jNMFr"
      }
    },
    {
      "cell_type": "code",
      "source": [
        "#break statement\n",
        "for i in range (10):\n",
        "  if i==7:\n",
        "   print(\"thank you\")\n",
        "   break\n",
        "  print(i)"
      ],
      "metadata": {
        "id": "FtWlNWMRNd0o",
        "colab": {
          "base_uri": "https://localhost:8080/"
        },
        "outputId": "50152931-c31c-4dc5-fa19-fcd1ce3a20e6"
      },
      "execution_count": null,
      "outputs": [
        {
          "output_type": "stream",
          "name": "stdout",
          "text": [
            "0\n",
            "1\n",
            "2\n",
            "3\n",
            "4\n",
            "5\n",
            "6\n",
            "thank you\n"
          ]
        }
      ]
    },
    {
      "cell_type": "code",
      "source": [
        "#continious statemet\n",
        "for i in range (10):\n",
        "   if i%2==0:\n",
        "     continue\n",
        "   print(i)\n"
      ],
      "metadata": {
        "colab": {
          "base_uri": "https://localhost:8080/"
        },
        "id": "A8HF9VH6OiTB",
        "outputId": "97659d6d-7d87-4d63-c806-5ba69aa5308b"
      },
      "execution_count": null,
      "outputs": [
        {
          "output_type": "stream",
          "name": "stdout",
          "text": [
            "1\n",
            "3\n",
            "5\n",
            "7\n",
            "9\n"
          ]
        }
      ]
    },
    {
      "cell_type": "markdown",
      "source": [
        "**WHILE LOOP**"
      ],
      "metadata": {
        "id": "AGCm3qi2PYgG"
      }
    },
    {
      "cell_type": "code",
      "source": [
        "x=1\n",
        "while x<=5:\n",
        "  print(x)\n",
        "  x=x+1\n",
        "\n"
      ],
      "metadata": {
        "colab": {
          "base_uri": "https://localhost:8080/"
        },
        "id": "M8915Jt4PUdR",
        "outputId": "5345b7bd-3e39-4ddf-8a51-37e328252463"
      },
      "execution_count": null,
      "outputs": [
        {
          "output_type": "stream",
          "name": "stdout",
          "text": [
            "1\n",
            "2\n",
            "3\n",
            "4\n",
            "5\n"
          ]
        }
      ]
    },
    {
      "cell_type": "code",
      "source": [
        " # infinite while loop\n",
        "i=0\n",
        "while True:\n",
        "  i=i+1\n",
        "  print(i)"
      ],
      "metadata": {
        "id": "NSdZjcWpNdK5"
      },
      "execution_count": null,
      "outputs": []
    },
    {
      "cell_type": "markdown",
      "source": [
        "**# access charecter of the string**"
      ],
      "metadata": {
        "id": "HfYk2jZBQ2QG"
      }
    },
    {
      "cell_type": "code",
      "source": [
        "s=\"data science\"\n",
        "print(s[0])\n",
        "print(s[-1])\n",
        "print(s[1:7:2])\n",
        "print(s[::-1])\n",
        "print(len(s))\n"
      ],
      "metadata": {
        "colab": {
          "base_uri": "https://localhost:8080/"
        },
        "id": "dNY-n4GDQ-oV",
        "outputId": "82b69807-1bec-4af5-d284-549fdcafebee"
      },
      "execution_count": 23,
      "outputs": [
        {
          "output_type": "stream",
          "name": "stdout",
          "text": [
            "d\n",
            "e\n",
            "aas\n",
            "ecneics atad\n",
            "12\n"
          ]
        }
      ]
    },
    {
      "cell_type": "markdown",
      "source": [
        "** romoving space from the string**"
      ],
      "metadata": {
        "id": "sTelOvqNVqvS"
      }
    },
    {
      "cell_type": "code",
      "source": [
        "\n",
        "s=\"data \"\n",
        "s.rstrip()"
      ],
      "metadata": {
        "colab": {
          "base_uri": "https://localhost:8080/",
          "height": 35
        },
        "id": "oZ8EI54PUxmR",
        "outputId": "705d4d48-df46-4299-da3a-593922e80ceb"
      },
      "execution_count": 35,
      "outputs": [
        {
          "output_type": "execute_result",
          "data": {
            "text/plain": [
              "'data'"
            ],
            "application/vnd.google.colaboratory.intrinsic+json": {
              "type": "string"
            }
          },
          "metadata": {},
          "execution_count": 35
        }
      ]
    },
    {
      "cell_type": "code",
      "source": [
        "s=\" data\"\n",
        "s.lstrip()"
      ],
      "metadata": {
        "colab": {
          "base_uri": "https://localhost:8080/",
          "height": 35
        },
        "id": "-aZPwFavVTWU",
        "outputId": "fae87677-e285-4e2e-da19-4c722b629d23"
      },
      "execution_count": 36,
      "outputs": [
        {
          "output_type": "execute_result",
          "data": {
            "text/plain": [
              "'data'"
            ],
            "application/vnd.google.colaboratory.intrinsic+json": {
              "type": "string"
            }
          },
          "metadata": {},
          "execution_count": 36
        }
      ]
    },
    {
      "cell_type": "code",
      "source": [
        "s=\" data \"\n",
        "s.strip()"
      ],
      "metadata": {
        "colab": {
          "base_uri": "https://localhost:8080/",
          "height": 35
        },
        "id": "AzJ8gLZXVeuJ",
        "outputId": "03968564-bda6-4a2d-b041-41bba7ed9f3f"
      },
      "execution_count": 37,
      "outputs": [
        {
          "output_type": "execute_result",
          "data": {
            "text/plain": [
              "'data'"
            ],
            "application/vnd.google.colaboratory.intrinsic+json": {
              "type": "string"
            }
          },
          "metadata": {},
          "execution_count": 37
        }
      ]
    },
    {
      "cell_type": "markdown",
      "source": [
        "**finding substring**\n",
        " 1)  s.find(substring, begin,end)\n",
        "\n",
        "\n",
        "\n"
      ],
      "metadata": {
        "id": "yaNAk3htV3yL"
      }
    },
    {
      "cell_type": "code",
      "source": [
        "s=\"data is more important\"\n",
        "s.find(\"is\") # it will show index number "
      ],
      "metadata": {
        "colab": {
          "base_uri": "https://localhost:8080/"
        },
        "id": "_aVwvkpmV8rX",
        "outputId": "85812ba9-3fc4-40a9-e12e-094871789074"
      },
      "execution_count": 38,
      "outputs": [
        {
          "output_type": "execute_result",
          "data": {
            "text/plain": [
              "5"
            ]
          },
          "metadata": {},
          "execution_count": 38
        }
      ]
    },
    {
      "cell_type": "code",
      "source": [
        "s.find(\"m\",1,10)\n"
      ],
      "metadata": {
        "colab": {
          "base_uri": "https://localhost:8080/"
        },
        "id": "Dx5LxV8hW9Z9",
        "outputId": "b4fb0996-1d0b-460a-953d-bef35b8579ff"
      },
      "execution_count": 39,
      "outputs": [
        {
          "output_type": "execute_result",
          "data": {
            "text/plain": [
              "8"
            ]
          },
          "metadata": {},
          "execution_count": 39
        }
      ]
    },
    {
      "cell_type": "code",
      "source": [
        "s.index(\"m\")"
      ],
      "metadata": {
        "colab": {
          "base_uri": "https://localhost:8080/"
        },
        "id": "HI5SdhfZXTVf",
        "outputId": "ac780995-ba0f-4071-c01e-f2ac89caf71c"
      },
      "execution_count": 40,
      "outputs": [
        {
          "output_type": "execute_result",
          "data": {
            "text/plain": [
              "8"
            ]
          },
          "metadata": {},
          "execution_count": 40
        }
      ]
    },
    {
      "cell_type": "markdown",
      "source": [
        "COUNT"
      ],
      "metadata": {
        "id": "N2w47ynGXntv"
      }
    },
    {
      "cell_type": "code",
      "source": [
        "l=\"aaaamamamsdueehdmmdhdmmm\"\n",
        "l.count(\"m\")"
      ],
      "metadata": {
        "colab": {
          "base_uri": "https://localhost:8080/"
        },
        "id": "Xf9ZkI9eXtX6",
        "outputId": "3c1b1c04-e9ca-49c4-cc63-24356026cf91"
      },
      "execution_count": 42,
      "outputs": [
        {
          "output_type": "execute_result",
          "data": {
            "text/plain": [
              "8"
            ]
          },
          "metadata": {},
          "execution_count": 42
        }
      ]
    },
    {
      "cell_type": "markdown",
      "source": [
        "**replace**"
      ],
      "metadata": {
        "id": "f_1jhAJcZd4C"
      }
    },
    {
      "cell_type": "code",
      "source": [
        "s=\"python is very difficult\"\n",
        "new=s.replace(\"difficult\",\"easy\")\n",
        "print(new)"
      ],
      "metadata": {
        "colab": {
          "base_uri": "https://localhost:8080/"
        },
        "id": "dGR1Wve1YLz0",
        "outputId": "c60d9f1d-f361-4afe-8ac3-798721043aa7"
      },
      "execution_count": 49,
      "outputs": [
        {
          "output_type": "stream",
          "name": "stdout",
          "text": [
            "python is very easy\n"
          ]
        }
      ]
    },
    {
      "cell_type": "markdown",
      "source": [
        "**split**"
      ],
      "metadata": {
        "id": "-sQNVjcgZj8I"
      }
    },
    {
      "cell_type": "code",
      "source": [
        "s='22-02-2018'\n",
        "l=s.split(\"-\")\n",
        "print(l)"
      ],
      "metadata": {
        "colab": {
          "base_uri": "https://localhost:8080/"
        },
        "id": "OLGlYtoPZoGg",
        "outputId": "3475bc7c-edb9-4f75-f428-e0e844d0b2eb"
      },
      "execution_count": 50,
      "outputs": [
        {
          "output_type": "stream",
          "name": "stdout",
          "text": [
            "['22', '02', '2018']\n"
          ]
        }
      ]
    },
    {
      "cell_type": "code",
      "source": [
        "for x in l :\n",
        "  print(x)"
      ],
      "metadata": {
        "colab": {
          "base_uri": "https://localhost:8080/"
        },
        "id": "7Feti9LoaCgn",
        "outputId": "6b314bdb-1271-4532-dd33-a1f6f676add6"
      },
      "execution_count": 51,
      "outputs": [
        {
          "output_type": "stream",
          "name": "stdout",
          "text": [
            "22\n",
            "02\n",
            "2018\n"
          ]
        }
      ]
    },
    {
      "cell_type": "markdown",
      "source": [
        "**differnt operations on string**"
      ],
      "metadata": {
        "id": "2o-fguqCaQwj"
      }
    },
    {
      "cell_type": "code",
      "source": [
        "s=\"learning python100 is very easy \"\n",
        "print(s.upper())\n",
        "print(s.lower())\n",
        "print(s.capitalize())\n",
        "print(s.title())\n",
        "print(s.startswith(\"learning\"))\n",
        "print(s.endswith(\"is\"))\n",
        "print(s.isalnum())\n",
        "print(s.islower())\n",
        "print(s.istitle())"
      ],
      "metadata": {
        "colab": {
          "base_uri": "https://localhost:8080/"
        },
        "id": "KH0agyj1acDB",
        "outputId": "1ed6daff-ce5c-4e70-f0c2-d92c7ee45fe2"
      },
      "execution_count": 59,
      "outputs": [
        {
          "output_type": "stream",
          "name": "stdout",
          "text": [
            "LEARNING PYTHON100 IS VERY EASY \n",
            "learning python100 is very easy \n",
            "Learning python100 is very easy \n",
            "Learning Python100 Is Very Easy \n",
            "True\n",
            "False\n",
            "False\n",
            "True\n",
            "False\n"
          ]
        }
      ]
    },
    {
      "cell_type": "markdown",
      "source": [
        "**formating  string**"
      ],
      "metadata": {
        "id": "L38zMI3rdBqN"
      }
    },
    {
      "cell_type": "code",
      "source": [
        "name=\"Amarsinh\"\n",
        "salary=1200000\n",
        "age=28\n",
        "print(\"{}'s salary is {}  and his age is {}\".format(name,salary,age))\n"
      ],
      "metadata": {
        "colab": {
          "base_uri": "https://localhost:8080/"
        },
        "id": "186wG2jLbi6X",
        "outputId": "e3eedfde-c979-42c0-fd05-5be353d992d0"
      },
      "execution_count": 62,
      "outputs": [
        {
          "output_type": "stream",
          "name": "stdout",
          "text": [
            "Amarsinh's salary is 1200000  and his age is 28\n"
          ]
        }
      ]
    },
    {
      "cell_type": "markdown",
      "source": [
        "**REVERSE STRING**"
      ],
      "metadata": {
        "id": "-eVE-lMGeN3r"
      }
    },
    {
      "cell_type": "code",
      "source": [
        "s=input(\"enter  the string: \")\n",
        "print(s[::-1])\n",
        "\"\".join(reversed(s))"
      ],
      "metadata": {
        "colab": {
          "base_uri": "https://localhost:8080/",
          "height": 70
        },
        "id": "_AJ4EQZWd6sa",
        "outputId": "29f73597-e695-432b-cce8-b481e315f6ee"
      },
      "execution_count": 67,
      "outputs": [
        {
          "output_type": "stream",
          "name": "stdout",
          "text": [
            "enter  the string: DATA SCIENCE\n",
            "ECNEICS ATAD\n"
          ]
        },
        {
          "output_type": "execute_result",
          "data": {
            "text/plain": [
              "'ECNEICS ATAD'"
            ],
            "application/vnd.google.colaboratory.intrinsic+json": {
              "type": "string"
            }
          },
          "metadata": {},
          "execution_count": 67
        }
      ]
    },
    {
      "cell_type": "markdown",
      "source": [
        "*REVERSED ORDER WORDS OF STRING*\n",
        "\n",
        "\n",
        "\n"
      ],
      "metadata": {
        "id": "GjGDUcrXg_Ci"
      }
    },
    {
      "cell_type": "code",
      "source": [
        "s=\"LEARNING PYTHON IS VERY EASY\"\n",
        "l=s.split()\n",
        "print(' '.join(reversed(l)))"
      ],
      "metadata": {
        "colab": {
          "base_uri": "https://localhost:8080/"
        },
        "id": "Z30vZ648guWS",
        "outputId": "40609d3a-5f70-4c1b-ca35-7755221cc6f6"
      },
      "execution_count": 77,
      "outputs": [
        {
          "output_type": "stream",
          "name": "stdout",
          "text": [
            "EASY VERY IS PYTHON LEARNING\n"
          ]
        }
      ]
    },
    {
      "cell_type": "code",
      "source": [
        "s=\"LEARNING PYTHON IS VERY EASY\"\n",
        "l=s.split()\n",
        "y=l[::-1]\n",
        "print(' '.join(y))"
      ],
      "metadata": {
        "colab": {
          "base_uri": "https://localhost:8080/"
        },
        "id": "zd44DGJridQr",
        "outputId": "65bb1a8a-c080-40c7-861f-d7f11de33413"
      },
      "execution_count": 84,
      "outputs": [
        {
          "output_type": "stream",
          "name": "stdout",
          "text": [
            "EASY VERY IS PYTHON LEARNING\n"
          ]
        }
      ]
    },
    {
      "cell_type": "markdown",
      "source": [
        "**remove duplicate character from given string**"
      ],
      "metadata": {
        "id": "G0rO0e9_n0IF"
      }
    },
    {
      "cell_type": "code",
      "source": [
        "s=input(\"enter the string: \")\n",
        "l=[]\n",
        "for x in s:\n",
        "  if x not in l:\n",
        "    l.append(x)\n",
        "z=''.join(l)\n",
        "print(z)\n",
        "\n",
        "\n"
      ],
      "metadata": {
        "colab": {
          "base_uri": "https://localhost:8080/"
        },
        "id": "P9r-GB7nnset",
        "outputId": "f842d5aa-b9a8-4365-a11e-507be6a94035"
      },
      "execution_count": 96,
      "outputs": [
        {
          "output_type": "stream",
          "name": "stdout",
          "text": [
            "enter the string: ananasjdusjdudnsmasnddussn\n",
            "ansjdum\n"
          ]
        }
      ]
    },
    {
      "cell_type": "markdown",
      "source": [
        "*find the number of occurance of each character present in the string*"
      ],
      "metadata": {
        "id": "QEDKceTCqgE9"
      }
    },
    {
      "cell_type": "code",
      "source": [
        "s=input(\"enter the string :\")\n",
        "d={}\n",
        "for x in s:\n",
        "   if x in d.keys():\n",
        "     d[x]=d[x]+1\n",
        "   else:\n",
        "     d[x]=1\n",
        "for k,v in d.items():\n",
        "   print(k,v )\n",
        "\n"
      ],
      "metadata": {
        "colab": {
          "base_uri": "https://localhost:8080/"
        },
        "id": "cXNzZCFlqu07",
        "outputId": "1ce8dbeb-4f99-4465-fec2-e86f6747c873"
      },
      "execution_count": 105,
      "outputs": [
        {
          "output_type": "stream",
          "name": "stdout",
          "text": [
            "enter the string :qwesawseaqqddfxzse\n",
            "q 3\n",
            "w 2\n",
            "e 3\n",
            "s 3\n",
            "a 2\n",
            "d 2\n",
            "f 1\n",
            "x 1\n",
            "z 1\n"
          ]
        }
      ]
    }
  ]
}