{
  "nbformat": 4,
  "nbformat_minor": 0,
  "metadata": {
    "colab": {
      "provenance": [],
      "authorship_tag": "ABX9TyOprgCCcttUORNErKNptQg1",
      "include_colab_link": true
    },
    "kernelspec": {
      "name": "python3",
      "display_name": "Python 3"
    },
    "language_info": {
      "name": "python"
    }
  },
  "cells": [
    {
      "cell_type": "markdown",
      "metadata": {
        "id": "view-in-github",
        "colab_type": "text"
      },
      "source": [
        "<a href=\"https://colab.research.google.com/github/Amarsinh0/-PYTHON-NOTES/blob/main/Untitled75.ipynb\" target=\"_parent\"><img src=\"https://colab.research.google.com/assets/colab-badge.svg\" alt=\"Open In Colab\"/></a>"
      ]
    },
    {
      "cell_type": "code",
      "execution_count": 1,
      "metadata": {
        "colab": {
          "base_uri": "https://localhost:8080/"
        },
        "id": "xhAjXmS9W-VX",
        "outputId": "5d9f5c7b-e2b1-4818-b280-007f1c72600d"
      },
      "outputs": [
        {
          "output_type": "stream",
          "name": "stdout",
          "text": [
            "Hello Word\n"
          ]
        }
      ],
      "source": [
        "print('Hello Word')\n"
      ]
    },
    {
      "cell_type": "code",
      "source": [
        "# prompt:\n",
        "\n",
        "print('Hello World!')\n"
      ],
      "metadata": {
        "colab": {
          "base_uri": "https://localhost:8080/"
        },
        "id": "yBImPcYcXLmQ",
        "outputId": "2d9f23a0-7aa0-4180-bacd-39dc2c2e3fc0"
      },
      "execution_count": 2,
      "outputs": [
        {
          "output_type": "stream",
          "name": "stdout",
          "text": [
            "Hello World!\n"
          ]
        }
      ]
    },
    {
      "cell_type": "code",
      "source": [
        "low=1\n",
        "up=10\n",
        "print('prime number betwn',low, 'and', up, 'are')\n",
        "for num in range (low,up+1):\n",
        "  if num>1:\n",
        "    for i in range (2,num):\n",
        "       if (num%i)==0:\n",
        "         break\n",
        "\n",
        "    else:\n",
        "       print(num)\n"
      ],
      "metadata": {
        "colab": {
          "base_uri": "https://localhost:8080/"
        },
        "id": "XYLdchHdXfiE",
        "outputId": "82eed2c4-4745-486e-baa2-5acb997d5040"
      },
      "execution_count": 16,
      "outputs": [
        {
          "output_type": "stream",
          "name": "stdout",
          "text": [
            "prime number betwn 1 and 10 are\n",
            "2\n",
            "3\n",
            "5\n",
            "7\n"
          ]
        }
      ]
    },
    {
      "cell_type": "code",
      "source": [
        "# find factorial of number\n",
        "num=int(input('enetr the number: '))\n",
        "fact=1\n",
        "for i in range (1,num+1):\n",
        "  fact=fact*i\n",
        "print(fact)"
      ],
      "metadata": {
        "colab": {
          "base_uri": "https://localhost:8080/"
        },
        "id": "OcPdxfVJcRrZ",
        "outputId": "6c2e7ee0-07b0-4fd0-8584-c5dd0c3111e6"
      },
      "execution_count": 21,
      "outputs": [
        {
          "output_type": "stream",
          "name": "stdout",
          "text": [
            "enetr the number: 5\n",
            "120\n"
          ]
        }
      ]
    },
    {
      "cell_type": "code",
      "source": [
        "num=int(input (\"enetr the number :\"))\n",
        "fact=1\n",
        "for i in range(1,num+1):\n",
        "  fact=fact*i\n",
        "print(fact)\n"
      ],
      "metadata": {
        "colab": {
          "base_uri": "https://localhost:8080/"
        },
        "id": "jUW-2FhZdm7Y",
        "outputId": "b28aa380-0b9a-42bc-f32f-8307b832f547"
      },
      "execution_count": 23,
      "outputs": [
        {
          "output_type": "stream",
          "name": "stdout",
          "text": [
            "enetr the number :5\n",
            "120\n"
          ]
        }
      ]
    },
    {
      "cell_type": "code",
      "source": [
        "num=int(input (\"enetr the number:\"))\n",
        "for i in range(1,11):\n",
        "   mul=num*i\n",
        "   print(i,'*',num,'=',mul)"
      ],
      "metadata": {
        "colab": {
          "base_uri": "https://localhost:8080/"
        },
        "id": "2QjKd3pOeM37",
        "outputId": "42ff87a7-6caf-4ca6-940b-8d4f3ada9909"
      },
      "execution_count": 30,
      "outputs": [
        {
          "output_type": "stream",
          "name": "stdout",
          "text": [
            "enetr the number:6\n",
            "1 * 6 = 6\n",
            "2 * 6 = 12\n",
            "3 * 6 = 18\n",
            "4 * 6 = 24\n",
            "5 * 6 = 30\n",
            "6 * 6 = 36\n",
            "7 * 6 = 42\n",
            "8 * 6 = 48\n",
            "9 * 6 = 54\n",
            "10 * 6 = 60\n"
          ]
        }
      ]
    },
    {
      "cell_type": "code",
      "source": [
        "# fibboachi serise\n",
        "\n",
        "num=int(input(\"how many terms: \"))\n",
        "#first two terms\n",
        "n1,n2=0,1\n",
        "count=0\n",
        "\n",
        "while count<num:\n",
        "  print(n1)\n",
        "  nth=n1+n2\n",
        " #update values\n",
        "  n1=n2\n",
        "  n1=n2\n",
        "  n2=nth\n",
        "  count=count+1\n",
        ""
      ],
      "metadata": {
        "colab": {
          "base_uri": "https://localhost:8080/"
        },
        "id": "seCLp5xAgURs",
        "outputId": "ecc46325-57a8-4b08-eec5-714aaaf1bf2c"
      },
      "execution_count": 35,
      "outputs": [
        {
          "output_type": "stream",
          "name": "stdout",
          "text": [
            "how many terms: 10\n",
            "0\n",
            "1\n",
            "1\n",
            "2\n",
            "3\n",
            "5\n",
            "8\n",
            "13\n",
            "21\n",
            "34\n"
          ]
        }
      ]
    },
    {
      "cell_type": "code",
      "source": [
        "# sum of natural numbers\n",
        "num= int(input ('enter the number :'))\n",
        "sum=0\n",
        "for i in range (1,num+1):\n",
        "   sum=sum+i\n",
        "print(sum)"
      ],
      "metadata": {
        "colab": {
          "base_uri": "https://localhost:8080/"
        },
        "id": "QkeomAq3iscw",
        "outputId": "79ddb2c2-aeaa-44cd-b712-9bf16a5a40ee"
      },
      "execution_count": 38,
      "outputs": [
        {
          "output_type": "stream",
          "name": "stdout",
          "text": [
            "enter the number :10\n",
            "55\n"
          ]
        }
      ]
    },
    {
      "cell_type": "code",
      "source": [
        "def compute_lcm(x,y):\n",
        "      if (x>y):\n",
        "        greater=x\n",
        "      else:\n",
        "        greater=y\n",
        "      while(True):\n",
        "        if( greater % x==0) and ( greater % y==0 ):\n",
        "              lcm = greater\n",
        "              break\n",
        "        greater += 1\n",
        "      return lcm\n",
        "num1=int(input('enter the num1 : '))\n",
        "num2=int(input('enter the num2 : '))\n",
        "print(compute_lcm(num1,num2))\n"
      ],
      "metadata": {
        "colab": {
          "base_uri": "https://localhost:8080/"
        },
        "id": "JSeJURcYkFz6",
        "outputId": "db0a26ba-bb96-400e-c127-1a58cdcd57e2"
      },
      "execution_count": 2,
      "outputs": [
        {
          "output_type": "stream",
          "name": "stdout",
          "text": [
            "enter the num1 : 54\n",
            "enter the num2 : 24\n",
            "216\n"
          ]
        }
      ]
    },
    {
      "cell_type": "code",
      "source": [
        "def compute_hcf(x,y):\n",
        "      if (x>y):\n",
        "        smaller=y\n",
        "      else:\n",
        "        smaller=x\n",
        "      for i in range (1,smaller+1):\n",
        "        if((x % i ==0 ) and (y % i==0)):\n",
        "          hcf=i\n",
        "      return hcf\n",
        "\n",
        "num1=int(input('enter the num1 : '))\n",
        "num2=int(input('enter the num2 : '))\n",
        "print(compute_hcffid(num1,num2))"
      ],
      "metadata": {
        "colab": {
          "base_uri": "https://localhost:8080/"
        },
        "id": "hBRA3F7GPQ-p",
        "outputId": "289155e6-fa28-4b28-fe6c-7062f9d114f6"
      },
      "execution_count": 6,
      "outputs": [
        {
          "output_type": "stream",
          "name": "stdout",
          "text": [
            "enter the num1 : 54\n",
            "enter the num2 : 24\n",
            "6\n"
          ]
        }
      ]
    },
    {
      "cell_type": "code",
      "source": [
        "\n"
      ],
      "metadata": {
        "id": "xkW5bN1jScLt"
      },
      "execution_count": null,
      "outputs": []
    },
    {
      "cell_type": "code",
      "source": [
        "# find ASCII value\n",
        "char= str(input (' enetr the charater :'))\n",
        "print(ord(char))"
      ],
      "metadata": {
        "colab": {
          "base_uri": "https://localhost:8080/"
        },
        "id": "PtDSrABUR4yB",
        "outputId": "f9d072ce-b37f-4e72-aedb-a6ac98619569"
      },
      "execution_count": 9,
      "outputs": [
        {
          "output_type": "stream",
          "name": "stdout",
          "text": [
            " enetr the charater :a\n",
            "97\n"
          ]
        }
      ]
    },
    {
      "cell_type": "code",
      "source": [],
      "metadata": {
        "id": "156zUCBFTWT2"
      },
      "execution_count": null,
      "outputs": []
    }
  ]
}