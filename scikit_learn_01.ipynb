{
  "nbformat": 4,
  "nbformat_minor": 0,
  "metadata": {
    "colab": {
      "provenance": [],
      "authorship_tag": "ABX9TyO3Ya59B1z0GZcTNu8zFRdw",
      "include_colab_link": true
    },
    "kernelspec": {
      "name": "python3",
      "display_name": "Python 3"
    },
    "language_info": {
      "name": "python"
    }
  },
  "cells": [
    {
      "cell_type": "markdown",
      "metadata": {
        "id": "view-in-github",
        "colab_type": "text"
      },
      "source": [
        "<a href=\"https://colab.research.google.com/github/Amarsinh0/-PYTHON-NOTES/blob/main/scikit_learn_01.ipynb\" target=\"_parent\"><img src=\"https://colab.research.google.com/assets/colab-badge.svg\" alt=\"Open In Colab\"/></a>"
      ]
    },
    {
      "cell_type": "markdown",
      "source": [
        "**import pandas and laod iris dataset **"
      ],
      "metadata": {
        "id": "UlP1bvw6yuzs"
      }
    },
    {
      "cell_type": "code",
      "source": [
        "import pandas as pd\n"
      ],
      "metadata": {
        "id": "o5ewv_z1wrVm"
      },
      "execution_count": 19,
      "outputs": []
    },
    {
      "cell_type": "code",
      "source": [
        "iris=pd.read_csv(\"/content/Iris.csv\")\n"
      ],
      "metadata": {
        "id": "3iahGKPhwYJi"
      },
      "execution_count": 20,
      "outputs": []
    },
    {
      "cell_type": "code",
      "source": [
        "from sklearn.datasets import load_iris"
      ],
      "metadata": {
        "id": "7rhbj4XmwV6v"
      },
      "execution_count": 21,
      "outputs": []
    },
    {
      "cell_type": "code",
      "source": [
        "iris=load_iris()"
      ],
      "metadata": {
        "id": "uFL5iztrVWzg"
      },
      "execution_count": 24,
      "outputs": []
    },
    {
      "cell_type": "code",
      "source": [
        "x=iris.data"
      ],
      "metadata": {
        "id": "i2w5ysxQVv0F"
      },
      "execution_count": 25,
      "outputs": []
    },
    {
      "cell_type": "code",
      "source": [
        "y=iris.target"
      ],
      "metadata": {
        "id": "YAbAfQVnXCeZ"
      },
      "execution_count": 30,
      "outputs": []
    },
    {
      "cell_type": "code",
      "source": [
        "feature_name =iris.feature_names"
      ],
      "metadata": {
        "id": "iBuGREExXTRP"
      },
      "execution_count": 32,
      "outputs": []
    },
    {
      "cell_type": "code",
      "source": [
        "target_name=iris.target_names"
      ],
      "metadata": {
        "id": "yI7jVjSfXbv9"
      },
      "execution_count": 34,
      "outputs": []
    },
    {
      "cell_type": "code",
      "source": [
        "print(\"feature_name:\",feature_name)"
      ],
      "metadata": {
        "colab": {
          "base_uri": "https://localhost:8080/"
        },
        "id": "fCGnQ4fTXqDf",
        "outputId": "d66e78e5-4887-4bda-8acd-f61f816c02dc"
      },
      "execution_count": 36,
      "outputs": [
        {
          "output_type": "stream",
          "name": "stdout",
          "text": [
            "feature_name: ['sepal length (cm)', 'sepal width (cm)', 'petal length (cm)', 'petal width (cm)']\n"
          ]
        }
      ]
    },
    {
      "cell_type": "code",
      "source": [
        "print(\"target_name:\",target_name)"
      ],
      "metadata": {
        "colab": {
          "base_uri": "https://localhost:8080/"
        },
        "id": "4YGCP8X7xwdl",
        "outputId": "ea03a955-1f7e-41bb-829d-305fb5d2b0f0"
      },
      "execution_count": 35,
      "outputs": [
        {
          "output_type": "stream",
          "name": "stdout",
          "text": [
            "target_name: ['setosa' 'versicolor' 'virginica']\n"
          ]
        }
      ]
    },
    {
      "cell_type": "code",
      "source": [
        "print('\\nfirst 10 rows of x:\\n',x[:10])"
      ],
      "metadata": {
        "colab": {
          "base_uri": "https://localhost:8080/"
        },
        "id": "23zd-MgCx6Qe",
        "outputId": "d15354cf-2633-4331-b9a7-72b73438e4e5"
      },
      "execution_count": 37,
      "outputs": [
        {
          "output_type": "stream",
          "name": "stdout",
          "text": [
            "\n",
            "first 10 rows of x:\n",
            " [[5.1 3.5 1.4 0.2]\n",
            " [4.9 3.  1.4 0.2]\n",
            " [4.7 3.2 1.3 0.2]\n",
            " [4.6 3.1 1.5 0.2]\n",
            " [5.  3.6 1.4 0.2]\n",
            " [5.4 3.9 1.7 0.4]\n",
            " [4.6 3.4 1.4 0.3]\n",
            " [5.  3.4 1.5 0.2]\n",
            " [4.4 2.9 1.4 0.2]\n",
            " [4.9 3.1 1.5 0.1]]\n"
          ]
        }
      ]
    },
    {
      "cell_type": "markdown",
      "source": [
        "# **spliting the dataset**\n",
        "\n",
        "\n",
        "---\n",
        "\n",
        "\n",
        "\n"
      ],
      "metadata": {
        "id": "0C7jkaQBzAsB"
      }
    },
    {
      "cell_type": "code",
      "source": [
        "from sklearn.model_selection import train_test_split"
      ],
      "metadata": {
        "id": "2hjWVkZKzUz8"
      },
      "execution_count": 38,
      "outputs": []
    },
    {
      "cell_type": "code",
      "source": [
        "x_train,x_test,y_train,y_test=train_test_split(x,y,test_size=0.3,random_state=1)"
      ],
      "metadata": {
        "id": "R_gi-5OJzhKp"
      },
      "execution_count": 39,
      "outputs": []
    },
    {
      "cell_type": "code",
      "source": [
        "print(x_train.shape)\n",
        "print(x_test.shape)"
      ],
      "metadata": {
        "id": "1bL12WR0z50l"
      },
      "execution_count": null,
      "outputs": []
    },
    {
      "cell_type": "code",
      "source": [
        "print(y_train.shape)\n",
        "print(y_test.shape)"
      ],
      "metadata": {
        "colab": {
          "base_uri": "https://localhost:8080/"
        },
        "id": "V2Na6IBM0JkF",
        "outputId": "a484888b-3b65-43b6-e375-29efc04f0691"
      },
      "execution_count": 41,
      "outputs": [
        {
          "output_type": "stream",
          "name": "stdout",
          "text": [
            "(105,)\n",
            "(45,)\n"
          ]
        }
      ]
    },
    {
      "cell_type": "markdown",
      "source": [
        "# **train the model**"
      ],
      "metadata": {
        "id": "lO6wkeXa2-EP"
      }
    },
    {
      "cell_type": "code",
      "source": [
        "from sklearn.neighbors import KNeighborsClassifier"
      ],
      "metadata": {
        "id": "Ai3xjAgk29Ej"
      },
      "execution_count": 42,
      "outputs": []
    },
    {
      "cell_type": "code",
      "source": [
        "from sklearn import metrics"
      ],
      "metadata": {
        "id": "ES-cYkc23aBQ"
      },
      "execution_count": 43,
      "outputs": []
    },
    {
      "cell_type": "code",
      "source": [
        "clf_knn=KNeighborsClassifier(n_neighbors=3)"
      ],
      "metadata": {
        "id": "Dc1xMI7M3kLe"
      },
      "execution_count": 44,
      "outputs": []
    },
    {
      "cell_type": "code",
      "source": [
        "clf_knn.fit(x_train,y_train)"
      ],
      "metadata": {
        "id": "KNiqH-Ug5Mo3"
      },
      "execution_count": null,
      "outputs": []
    },
    {
      "cell_type": "code",
      "source": [
        "y_pred=clf_knn.predict(x_test)"
      ],
      "metadata": {
        "id": "NbeVW6nX5a7p"
      },
      "execution_count": 46,
      "outputs": []
    },
    {
      "cell_type": "markdown",
      "source": [
        "finding the accuracy by comparing actual response value"
      ],
      "metadata": {
        "id": "l-qwSG8e5_WG"
      }
    },
    {
      "cell_type": "code",
      "source": [
        "print(\"accuracy:\", metrics.accuracy_score(y_test,y_pred))"
      ],
      "metadata": {
        "colab": {
          "base_uri": "https://localhost:8080/"
        },
        "id": "9CMsSdYZ5-bv",
        "outputId": "49e2409e-f819-4b7f-f332-6995e386edfb"
      },
      "execution_count": 47,
      "outputs": [
        {
          "output_type": "stream",
          "name": "stdout",
          "text": [
            "accuracy: 0.9777777777777777\n"
          ]
        }
      ]
    },
    {
      "cell_type": "markdown",
      "source": [
        "## providing sample data and model we will prediction out of data"
      ],
      "metadata": {
        "id": "-ObFVg1c7gaH"
      }
    },
    {
      "cell_type": "code",
      "source": [
        "classifier_knn = KNeighborsClassifier()\n"
      ],
      "metadata": {
        "id": "PdbLCQtrABzP"
      },
      "execution_count": 48,
      "outputs": []
    },
    {
      "cell_type": "code",
      "source": [
        "sample=[[5,5,3,2],[2,4,3,5]]"
      ],
      "metadata": {
        "id": "Udu4HJpa7yGA"
      },
      "execution_count": 50,
      "outputs": []
    },
    {
      "cell_type": "code",
      "source": [
        "preds=clf_knn.predict(sample)"
      ],
      "metadata": {
        "id": "9dPy7f0f8O0C"
      },
      "execution_count": 53,
      "outputs": []
    },
    {
      "cell_type": "code",
      "source": [
        "pred_species=[iris.target_names[p]for p in preds]\n",
        "print(\"prediction:\",pred_species)"
      ],
      "metadata": {
        "colab": {
          "base_uri": "https://localhost:8080/"
        },
        "id": "LdRTQXkmYyuq",
        "outputId": "64f2cd1a-6130-423a-f393-b4b16d9b9ecf"
      },
      "execution_count": 61,
      "outputs": [
        {
          "output_type": "stream",
          "name": "stdout",
          "text": [
            "prediction: ['versicolor', 'virginica']\n"
          ]
        }
      ]
    },
    {
      "cell_type": "markdown",
      "source": [
        "# model persistance - persist for future use\n",
        "\n",
        "\n",
        "\n",
        "\n",
        "\n"
      ],
      "metadata": {
        "id": "EjWoDxMuaPL7"
      }
    },
    {
      "cell_type": "code",
      "source": [
        "from sklearn.externals import joblib"
      ],
      "metadata": {
        "id": "ospiOGzFZ0O4"
      },
      "execution_count": null,
      "outputs": []
    },
    {
      "cell_type": "code",
      "source": [
        "joblib.dump(clf_knn,'iris_classifier_knn.joblib')"
      ],
      "metadata": {
        "id": "sSOXBhopb9Vq"
      },
      "execution_count": null,
      "outputs": []
    },
    {
      "cell_type": "code",
      "source": [
        "joblib.load('iris_classifier_knn.joblib')"
      ],
      "metadata": {
        "id": "4rmLqQtyclfb"
      },
      "execution_count": null,
      "outputs": []
    },
    {
      "cell_type": "markdown",
      "source": [
        "# **processing the data**"
      ],
      "metadata": {
        "id": "JCKjHecJdIYU"
      }
    },
    {
      "cell_type": "markdown",
      "source": [
        "**binarisation**"
      ],
      "metadata": {
        "id": "M5ns0GMSdVQ7"
      }
    },
    {
      "cell_type": "code",
      "source": [
        "import sklearn"
      ],
      "metadata": {
        "id": "Gt4pn5-veTx6"
      },
      "execution_count": 72,
      "outputs": []
    },
    {
      "cell_type": "code",
      "source": [
        "from sklearn import datasets"
      ],
      "metadata": {
        "id": "48pFNPk0ealQ"
      },
      "execution_count": 73,
      "outputs": []
    },
    {
      "cell_type": "code",
      "source": [
        "dir(datasets)"
      ],
      "metadata": {
        "id": "hbmCyPF5eyjw"
      },
      "execution_count": null,
      "outputs": []
    },
    {
      "cell_type": "code",
      "source": [
        "import numpy as np"
      ],
      "metadata": {
        "id": "7wW85dA2dMbF"
      },
      "execution_count": 76,
      "outputs": []
    },
    {
      "cell_type": "code",
      "source": [
        "pip uninstall scipy"
      ],
      "metadata": {
        "id": "GcVgUbkLfXl0"
      },
      "execution_count": null,
      "outputs": []
    },
    {
      "cell_type": "code",
      "source": [
        "pip install scipy\n"
      ],
      "metadata": {
        "colab": {
          "base_uri": "https://localhost:8080/"
        },
        "id": "DxRqptgkgFeM",
        "outputId": "dd91a6be-4586-4cfe-856c-cfb56b5b2ec3"
      },
      "execution_count": 135,
      "outputs": [
        {
          "output_type": "stream",
          "name": "stdout",
          "text": [
            "Requirement already satisfied: scipy in /usr/local/lib/python3.10/dist-packages (1.11.1)\n",
            "Requirement already satisfied: numpy<1.28.0,>=1.21.6 in /usr/local/lib/python3.10/dist-packages (from scipy) (1.22.4)\n"
          ]
        }
      ]
    },
    {
      "cell_type": "code",
      "source": [
        "pip install scikit-learn"
      ],
      "metadata": {
        "colab": {
          "base_uri": "https://localhost:8080/"
        },
        "id": "KVAu6iP0gg9N",
        "outputId": "c3fd6f6a-54ca-4998-c646-a1478c51ea15"
      },
      "execution_count": 137,
      "outputs": [
        {
          "output_type": "stream",
          "name": "stdout",
          "text": [
            "Requirement already satisfied: scikit-learn in /usr/local/lib/python3.10/dist-packages (1.2.2)\n",
            "Requirement already satisfied: numpy>=1.17.3 in /usr/local/lib/python3.10/dist-packages (from scikit-learn) (1.22.4)\n",
            "Requirement already satisfied: scipy>=1.3.2 in /usr/local/lib/python3.10/dist-packages (from scikit-learn) (1.11.1)\n",
            "Requirement already satisfied: joblib>=1.1.1 in /usr/local/lib/python3.10/dist-packages (from scikit-learn) (1.2.0)\n",
            "Requirement already satisfied: threadpoolctl>=2.0.0 in /usr/local/lib/python3.10/dist-packages (from scikit-learn) (3.1.0)\n"
          ]
        }
      ]
    },
    {
      "cell_type": "code",
      "source": [
        "from sklearn import preprocessing\n"
      ],
      "metadata": {
        "id": "wx8chDexdck_"
      },
      "execution_count": 136,
      "outputs": []
    },
    {
      "cell_type": "code",
      "source": [
        "input_data=np.array([[2.1,-1.9,5.5],\n",
        " [-1.5,2.4,3.5],\n",
        " [0.5,7.9,-5.6],\n",
        " [5.9,2.3,-5.8]])"
      ],
      "metadata": {
        "id": "3X9WZimghrIO"
      },
      "execution_count": 99,
      "outputs": []
    },
    {
      "cell_type": "code",
      "source": [
        "data_binarized=preprocessing.Binarizer(threshold=0.5).transform(input_data)\n",
        "print(\"\\nBinarized data :\\n\",data_binarized)"
      ],
      "metadata": {
        "colab": {
          "base_uri": "https://localhost:8080/"
        },
        "id": "Ep2eah4ajEWk",
        "outputId": "cb5f99fd-eedd-44ee-a685-b687a8c9ef52"
      },
      "execution_count": 103,
      "outputs": [
        {
          "output_type": "stream",
          "name": "stdout",
          "text": [
            "\n",
            "Binarized data :\n",
            " [[1. 0. 1.]\n",
            " [0. 1. 1.]\n",
            " [0. 1. 0.]\n",
            " [1. 1. 0.]]\n"
          ]
        }
      ]
    },
    {
      "cell_type": "markdown",
      "source": [
        "# **mean removal**"
      ],
      "metadata": {
        "id": "0CwEOQYukhGM"
      }
    },
    {
      "cell_type": "code",
      "source": [
        "import numpy as np"
      ],
      "metadata": {
        "id": "ERnU3Kwekf6T"
      },
      "execution_count": 104,
      "outputs": []
    },
    {
      "cell_type": "code",
      "source": [
        "from sklearn import preprocessing"
      ],
      "metadata": {
        "id": "b1Bc9utwku3f"
      },
      "execution_count": 105,
      "outputs": []
    },
    {
      "cell_type": "code",
      "source": [
        "input_data=np.array([[2.1,-1.9,5.5],\n",
        " [-1.5,2.4,3.5],\n",
        " [0.5,7.9,-5.6],\n",
        " [5.9,2.3,-5.8]])"
      ],
      "metadata": {
        "id": "6EBxdERFk8iY"
      },
      "execution_count": 106,
      "outputs": []
    },
    {
      "cell_type": "markdown",
      "source": [
        "# displaying the mean and the std deviation"
      ],
      "metadata": {
        "id": "MjE3rsP4oI6Q"
      }
    },
    {
      "cell_type": "code",
      "source": [
        "print(\"mean\",input_data.mean(axis=0))\n",
        "print(\"std\",input_data.std(axis=0))"
      ],
      "metadata": {
        "colab": {
          "base_uri": "https://localhost:8080/"
        },
        "id": "WJgWGf7ClOYp",
        "outputId": "0628bac8-1c06-47cd-ce27-1e04f2fdbf03"
      },
      "execution_count": 111,
      "outputs": [
        {
          "output_type": "stream",
          "name": "stdout",
          "text": [
            "mean [ 1.75   2.675 -0.6  ]\n",
            "std [2.71431391 3.48021192 5.14927179]\n"
          ]
        }
      ]
    },
    {
      "cell_type": "markdown",
      "source": [
        "# **removing mean and stand deviation**"
      ],
      "metadata": {
        "id": "1kAekIpvmZ6p"
      }
    },
    {
      "cell_type": "code",
      "source": [
        "data_scaled= preprocessing.scale(input_data)\n",
        "print(\"mean_removed=\",data_scaled.mean(axis=0))\n",
        "print(\"standdeviation_removed=\",data_scaled.std(axis=0))"
      ],
      "metadata": {
        "colab": {
          "base_uri": "https://localhost:8080/"
        },
        "id": "1T6FHYw2mXBb",
        "outputId": "f64daab2-0904-4775-cfac-de72afcccbc4"
      },
      "execution_count": 113,
      "outputs": [
        {
          "output_type": "stream",
          "name": "stdout",
          "text": [
            "mean_removed= [ 1.11022302e-16  1.07552856e-16 -5.55111512e-17]\n",
            "standdeviation_removed= [1. 1. 1.]\n"
          ]
        }
      ]
    },
    {
      "cell_type": "markdown",
      "source": [
        "# **scaling**"
      ],
      "metadata": {
        "id": "S4UBToujomLC"
      }
    },
    {
      "cell_type": "code",
      "source": [
        "import numpy as np\n",
        "from sklearn import preprocessing\n",
        "input_data=np.array([[2.1,-1.9,5.5],\n",
        " [-1.5,2.4,3.5],\n",
        " [0.5,7.9,-5.6],\n",
        " [5.9,2.3,-5.8]])"
      ],
      "metadata": {
        "id": "eg95On04ojjU"
      },
      "execution_count": 123,
      "outputs": []
    },
    {
      "cell_type": "code",
      "source": [
        "data_scalar_minmax=preprocessing.MinMaxScaler(feature_range=(0,1))"
      ],
      "metadata": {
        "id": "Ri5wJcw1pNHE"
      },
      "execution_count": 125,
      "outputs": []
    },
    {
      "cell_type": "code",
      "source": [
        "data_scaled_minmax=data_scalar_minmax.fit_transform(input_data)\n"
      ],
      "metadata": {
        "id": "ktsToPDhpu2i"
      },
      "execution_count": 126,
      "outputs": []
    },
    {
      "cell_type": "code",
      "source": [
        "print(\"minmax scaled data :\\n\", data_scaled_minmax)"
      ],
      "metadata": {
        "colab": {
          "base_uri": "https://localhost:8080/"
        },
        "id": "n0AXCImZr3Pn",
        "outputId": "698c1951-d41f-4599-a9b7-1d6384e91fce"
      },
      "execution_count": 132,
      "outputs": [
        {
          "output_type": "stream",
          "name": "stdout",
          "text": [
            "minmax scaled data :\n",
            " [[0.48648649 0.         1.        ]\n",
            " [0.         0.43877551 0.82300885]\n",
            " [0.27027027 1.         0.01769912]\n",
            " [1.         0.42857143 0.        ]]\n"
          ]
        }
      ]
    },
    {
      "cell_type": "markdown",
      "source": [],
      "metadata": {
        "id": "wozcjHAjpuM1"
      }
    }
  ]
}